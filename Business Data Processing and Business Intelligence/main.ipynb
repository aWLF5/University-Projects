{
 "cells": [
  {
   "cell_type": "code",
   "execution_count": 2,
   "metadata": {},
   "outputs": [],
   "source": [
    "# importing the requests library\n",
    "import requests\n",
    "import json\n",
    "import csv\n",
    "import pandas as pd"
   ]
  },
  {
   "cell_type": "code",
   "execution_count": null,
   "metadata": {},
   "outputs": [],
   "source": [
    "# api-endpoints\n",
    "athlete_url = \"http://www.strava.com/api/v3/athlete/\"\n",
    "athlete_zones_url = \"http://www.strava.com/api/v3/athlete/zones\"\n",
    "athlete_stats_url = \"http://www.strava.com/api/v3/athletes/\" + str(athlete['id']) + \"/stats\"\n",
    "activities_url = \"http://www.strava.com/api/v3/athlete/activities\"\n",
    "activity_url = \"http://www.strava.com/api/v3/activities/\" + <activity_id>\n",
    "activity_zone_url = \"http://www.strava.com/api/v3/activities/\" + <activity_id> + \"/zones\""
   ]
  },
  {
   "cell_type": "code",
   "execution_count": 3,
   "metadata": {},
   "outputs": [
    {
     "name": "stdout",
     "output_type": "stream",
     "text": [
      "Access_token: ab15181dd0a777978c82fa17393d5419f8c3b412\n",
      "Refresh_token: 3e03e7aa7f9f4244928eb71a0100cfda1095d215\n"
     ]
    }
   ],
   "source": [
    "to_be_posted = 'https://www.strava.com/oauth/authorize?client_id=115408&redirect_uri=http://localhost/exchangetoken&response_type=code&scope=activity:read_all,profile:read_all'\n",
    "\n",
    "# start here after oauth\n",
    "client_secret = 'aa1e167a4cf8f4b7047f9783090a705a8bcbea7d'\n",
    "authorizationCode = '6569d50bd57c2d80c5a8ceb169563669ae39a4d2' # update here\n",
    "\n",
    "post_url = f'http://www.strava.com/oauth/token?client_id=115408&client_secret={client_secret}&code={authorizationCode}&grant_type=authorization_code'\n",
    "\n",
    "r = requests.post(url = post_url)\n",
    "\n",
    "access_token = r.json()['access_token']\n",
    "refresh_token = r.json()['refresh_token']\n",
    "\n",
    "print(f'Access_token: {access_token}')\n",
    "print(f'Refresh_token: {refresh_token}')"
   ]
  },
  {
   "cell_type": "code",
   "execution_count": 4,
   "metadata": {},
   "outputs": [],
   "source": [
    "#' TODO:\n",
    "#' >> get missing activities\n",
    "#' >> routes?\n",
    "#' >> explore: activity/route/segment_effort/segment streams\n",
    "\n",
    "#' NOTE:\n",
    "#' >> not need gear and clubs (as is already in athlete info)\n",
    "#' >> not need activity laps (as is already in activity info)\n",
    "#' >> only maybe need comments and kudos as count already in activites"
   ]
  },
  {
   "cell_type": "markdown",
   "metadata": {},
   "source": [
    "## Get Athlete"
   ]
  },
  {
   "cell_type": "code",
   "execution_count": 5,
   "metadata": {},
   "outputs": [
    {
     "name": "stdout",
     "output_type": "stream",
     "text": [
      "{'id': 81994109, 'username': None, 'resource_state': 3, 'firstname': 'Michel', 'lastname': 'Meyer', 'bio': '', 'city': 'København', 'state': 'Capital Region of Denmark', 'country': 'Denmark', 'sex': 'M', 'premium': True, 'summit': True, 'created_at': '2021-03-28T16:59:10Z', 'updated_at': '2023-10-31T07:43:54Z', 'badge_type_id': 1, 'weight': 74.0, 'profile_medium': 'https://dgalywyr863hv.cloudfront.net/pictures/athletes/81994109/22810748/1/medium.jpg', 'profile': 'https://dgalywyr863hv.cloudfront.net/pictures/athletes/81994109/22810748/1/large.jpg', 'friend': None, 'follower': None, 'blocked': False, 'can_follow': True, 'follower_count': 29, 'friend_count': 31, 'mutual_friend_count': 0, 'athlete_type': 1, 'date_preference': '%m/%d/%Y', 'measurement_preference': 'meters', 'clubs': [{'id': 60197, 'resource_state': 2, 'name': 'Strava Runners Berlin', 'profile_medium': 'https://dgalywyr863hv.cloudfront.net/pictures/clubs/60197/1319503/1/medium.jpg', 'profile': 'https://dgalywyr863hv.cloudfront.net/pictures/clubs/60197/1319503/1/large.jpg', 'cover_photo': 'https://dgalywyr863hv.cloudfront.net/pictures/clubs/60197/4522989/2/large.jpg', 'cover_photo_small': 'https://dgalywyr863hv.cloudfront.net/pictures/clubs/60197/4522989/2/small.jpg', 'activity_types': ['Run', 'VirtualRun', 'Wheelchair'], 'activity_types_icon': 'sports_run_normal', 'dimensions': ['distance', 'num_activities', 'best_activities_distance', 'elev_gain', 'moving_time', 'velocity'], 'sport_type': 'running', 'localized_sport_type': 'Running', 'city': 'Berlin', 'state': 'Berlin', 'country': 'Deutschland', 'private': False, 'member_count': 0, 'featured': False, 'verified': False, 'url': 'berlin', 'membership': 'member', 'admin': False, 'owner': False}, {'id': 450185, 'resource_state': 2, 'name': 'Wings for Life World Run', 'profile_medium': 'https://dgalywyr863hv.cloudfront.net/pictures/clubs/450185/9228211/4/medium.jpg', 'profile': 'https://dgalywyr863hv.cloudfront.net/pictures/clubs/450185/9228211/4/large.jpg', 'cover_photo': 'https://dgalywyr863hv.cloudfront.net/pictures/clubs/450185/9228196/7/large.jpg', 'cover_photo_small': 'https://dgalywyr863hv.cloudfront.net/pictures/clubs/450185/9228196/7/small.jpg', 'activity_types': ['Run', 'VirtualRun', 'Wheelchair'], 'activity_types_icon': 'sports_run_normal', 'dimensions': ['distance', 'num_activities', 'best_activities_distance', 'elev_gain', 'moving_time', 'velocity'], 'sport_type': 'running', 'localized_sport_type': 'Running', 'city': '', 'state': '', 'country': 'Austria', 'private': False, 'member_count': 0, 'featured': False, 'verified': True, 'url': 'WFLWORLDRUN', 'membership': 'member', 'admin': False, 'owner': False}, {'id': 291487, 'resource_state': 2, 'name': 'KRAFT Runners', 'profile_medium': 'https://dgalywyr863hv.cloudfront.net/pictures/clubs/291487/6533132/3/medium.jpg', 'profile': 'https://dgalywyr863hv.cloudfront.net/pictures/clubs/291487/6533132/3/large.jpg', 'cover_photo': 'https://dgalywyr863hv.cloudfront.net/pictures/clubs/291487/6533097/8/large.jpg', 'cover_photo_small': 'https://dgalywyr863hv.cloudfront.net/pictures/clubs/291487/6533097/8/small.jpg', 'activity_types': ['Run', 'VirtualRun', 'Wheelchair'], 'activity_types_icon': 'sports_run_normal', 'dimensions': ['distance', 'num_activities', 'best_activities_distance', 'elev_gain', 'moving_time', 'velocity'], 'sport_type': 'running', 'localized_sport_type': 'Running', 'city': 'Berlin', 'state': '', 'country': 'Germany', 'private': False, 'member_count': 0, 'featured': False, 'verified': True, 'url': 'kraftrunners', 'membership': 'member', 'admin': False, 'owner': False}, {'id': 442260, 'resource_state': 2, 'name': 'Berlin Halbmarathon', 'profile_medium': 'https://dgalywyr863hv.cloudfront.net/pictures/clubs/442260/8875837/1/medium.jpg', 'profile': 'https://dgalywyr863hv.cloudfront.net/pictures/clubs/442260/8875837/1/large.jpg', 'cover_photo': 'https://dgalywyr863hv.cloudfront.net/pictures/clubs/442260/8875852/1/large.jpg', 'cover_photo_small': 'https://dgalywyr863hv.cloudfront.net/pictures/clubs/442260/8875852/1/small.jpg', 'activity_types': ['Run', 'VirtualRun', 'Wheelchair'], 'activity_types_icon': 'sports_run_normal', 'dimensions': ['distance', 'num_activities', 'best_activities_distance', 'elev_gain', 'moving_time', 'velocity'], 'sport_type': 'running', 'localized_sport_type': 'Running', 'city': 'Berlin', 'state': 'Berlin', 'country': 'Germany', 'private': False, 'member_count': 0, 'featured': False, 'verified': True, 'url': 'berlinhalbmarathon', 'membership': 'member', 'admin': False, 'owner': False}, {'id': 519331, 'resource_state': 2, 'name': 'AUTO1 Group', 'profile_medium': 'https://dgalywyr863hv.cloudfront.net/pictures/clubs/519331/11923313/1/medium.jpg', 'profile': 'https://dgalywyr863hv.cloudfront.net/pictures/clubs/519331/11923313/1/large.jpg', 'cover_photo': 'https://dgalywyr863hv.cloudfront.net/pictures/clubs/519331/12036234/1/large.jpg', 'cover_photo_small': 'https://dgalywyr863hv.cloudfront.net/pictures/clubs/519331/12036234/1/small.jpg', 'activity_types': [], 'activity_types_icon': 'sports_multi_normal', 'dimensions': ['moving_time', 'num_activities', 'distance', 'elev_gain'], 'sport_type': 'other', 'localized_sport_type': 'Multisport', 'city': 'Berlin', 'state': '', 'country': 'Germany', 'private': False, 'member_count': 0, 'featured': False, 'verified': False, 'url': 'auto1', 'membership': 'member', 'admin': False, 'owner': False}, {'id': 790126, 'resource_state': 2, 'name': 'CBS Running', 'profile_medium': 'https://dgalywyr863hv.cloudfront.net/pictures/clubs/790126/17711240/2/medium.jpg', 'profile': 'https://dgalywyr863hv.cloudfront.net/pictures/clubs/790126/17711240/2/large.jpg', 'cover_photo': 'https://dgalywyr863hv.cloudfront.net/pictures/clubs/790126/17711275/2/large.jpg', 'cover_photo_small': 'https://dgalywyr863hv.cloudfront.net/pictures/clubs/790126/17711275/2/small.jpg', 'activity_types': ['Run', 'VirtualRun', 'Wheelchair'], 'activity_types_icon': 'sports_run_normal', 'dimensions': ['distance', 'num_activities', 'best_activities_distance', 'elev_gain', 'moving_time', 'velocity'], 'sport_type': 'running', 'localized_sport_type': 'Running', 'city': 'København', 'state': 'Capital RegionDenmark', 'country': 'Denmark', 'private': False, 'member_count': 0, 'featured': False, 'verified': False, 'url': 'cbsrunningclub', 'membership': 'member', 'admin': False, 'owner': False}, {'id': 819861, 'resource_state': 2, 'name': 'Copenhagen Half Marathon', 'profile_medium': 'https://dgalywyr863hv.cloudfront.net/pictures/clubs/819861/18269587/1/medium.jpg', 'profile': 'https://dgalywyr863hv.cloudfront.net/pictures/clubs/819861/18269587/1/large.jpg', 'cover_photo': 'https://dgalywyr863hv.cloudfront.net/pictures/clubs/819861/18269581/9/large.jpg', 'cover_photo_small': 'https://dgalywyr863hv.cloudfront.net/pictures/clubs/819861/18269581/9/small.jpg', 'activity_types': ['Run', 'VirtualRun', 'Wheelchair'], 'activity_types_icon': 'sports_run_normal', 'dimensions': ['distance', 'num_activities', 'best_activities_distance', 'elev_gain', 'moving_time', 'velocity'], 'sport_type': 'running', 'localized_sport_type': 'Running', 'city': 'København', 'state': 'Capital Region of Denmark', 'country': 'Denmark', 'private': False, 'member_count': 0, 'featured': False, 'verified': True, 'url': 'Copenhagenhalfmarathon', 'membership': 'member', 'admin': False, 'owner': False}, {'id': 320808, 'resource_state': 2, 'name': 'Sparta Running Club', 'profile_medium': 'https://dgalywyr863hv.cloudfront.net/pictures/clubs/320808/7518763/1/medium.jpg', 'profile': 'https://dgalywyr863hv.cloudfront.net/pictures/clubs/320808/7518763/1/large.jpg', 'cover_photo': 'https://dgalywyr863hv.cloudfront.net/pictures/clubs/320808/7518727/4/large.jpg', 'cover_photo_small': 'https://dgalywyr863hv.cloudfront.net/pictures/clubs/320808/7518727/4/small.jpg', 'activity_types': ['Run', 'VirtualRun', 'Wheelchair'], 'activity_types_icon': 'sports_run_normal', 'dimensions': ['distance', 'num_activities', 'best_activities_distance', 'elev_gain', 'moving_time', 'velocity'], 'sport_type': 'running', 'localized_sport_type': 'Running', 'city': 'København', 'state': '', 'country': 'Danmark', 'private': False, 'member_count': 0, 'featured': False, 'verified': False, 'url': 'sparta_copenhagen', 'membership': 'member', 'admin': False, 'owner': False}, {'id': 978870, 'resource_state': 2, 'name': 'BESTZEIT Podcast', 'profile_medium': 'https://dgalywyr863hv.cloudfront.net/pictures/clubs/978870/21932615/1/medium.jpg', 'profile': 'https://dgalywyr863hv.cloudfront.net/pictures/clubs/978870/21932615/1/large.jpg', 'cover_photo': 'https://dgalywyr863hv.cloudfront.net/pictures/clubs/978870/21932636/3/large.jpg', 'cover_photo_small': 'https://dgalywyr863hv.cloudfront.net/pictures/clubs/978870/21932636/3/small.jpg', 'activity_types': ['Run', 'VirtualRun', 'Wheelchair'], 'activity_types_icon': 'sports_run_normal', 'dimensions': ['distance', 'num_activities', 'best_activities_distance', 'elev_gain', 'moving_time', 'velocity'], 'sport_type': 'running', 'localized_sport_type': 'Running', 'city': 'Regensburg', 'state': 'Bavaria', 'country': 'Germany', 'private': False, 'member_count': 0, 'featured': False, 'verified': False, 'url': 'BESTZEIT', 'membership': 'member', 'admin': False, 'owner': False}, {'id': 183105, 'resource_state': 2, 'name': 'Amager Faelled parkrun', 'profile_medium': 'https://dgalywyr863hv.cloudfront.net/pictures/clubs/183105/141235/4/medium.jpg', 'profile': 'https://dgalywyr863hv.cloudfront.net/pictures/clubs/183105/141235/4/large.jpg', 'cover_photo': 'https://dgalywyr863hv.cloudfront.net/pictures/clubs/183105/5056570/2/large.jpg', 'cover_photo_small': 'https://dgalywyr863hv.cloudfront.net/pictures/clubs/183105/5056570/2/small.jpg', 'activity_types': ['Run', 'VirtualRun', 'Wheelchair'], 'activity_types_icon': 'sports_run_normal', 'dimensions': ['distance', 'num_activities', 'best_activities_distance', 'elev_gain', 'moving_time', 'velocity'], 'sport_type': 'running', 'localized_sport_type': 'Running', 'city': 'København', 'state': 'Capital Region of Denmark', 'country': 'Denmark', 'private': False, 'member_count': 0, 'featured': False, 'verified': True, 'url': 'amager-faelled-parkrun', 'membership': 'member', 'admin': False, 'owner': False}, {'id': 229576, 'resource_state': 2, 'name': 'adidas Runners | Copenhagen', 'profile_medium': 'https://dgalywyr863hv.cloudfront.net/pictures/clubs/229576/5061492/1/medium.jpg', 'profile': 'https://dgalywyr863hv.cloudfront.net/pictures/clubs/229576/5061492/1/large.jpg', 'cover_photo': 'https://dgalywyr863hv.cloudfront.net/pictures/clubs/229576/5061484/8/large.jpg', 'cover_photo_small': 'https://dgalywyr863hv.cloudfront.net/pictures/clubs/229576/5061484/8/small.jpg', 'activity_types': ['Run', 'VirtualRun', 'Wheelchair'], 'activity_types_icon': 'sports_run_normal', 'dimensions': ['distance', 'num_activities', 'best_activities_distance', 'elev_gain', 'moving_time', 'velocity'], 'sport_type': 'running', 'localized_sport_type': 'Running', 'city': 'København', 'state': 'Hovedstaden', 'country': 'Danmark', 'private': False, 'member_count': 0, 'featured': False, 'verified': False, 'url': '', 'membership': 'member', 'admin': False, 'owner': False}, {'id': 911541, 'resource_state': 2, 'name': 'CBS Cycling', 'profile_medium': 'https://dgalywyr863hv.cloudfront.net/pictures/clubs/911541/19962727/1/medium.jpg', 'profile': 'https://dgalywyr863hv.cloudfront.net/pictures/clubs/911541/19962727/1/large.jpg', 'cover_photo': 'https://dgalywyr863hv.cloudfront.net/pictures/clubs/911541/19962714/3/large.jpg', 'cover_photo_small': 'https://dgalywyr863hv.cloudfront.net/pictures/clubs/911541/19962714/3/small.jpg', 'activity_types': ['Handcycle', 'EBikeRide', 'VirtualRide', 'Velomobile', 'Ride'], 'activity_types_icon': 'sports_bike_normal', 'dimensions': ['distance', 'num_activities', 'best_activities_distance', 'velocity', 'elev_gain', 'moving_time'], 'sport_type': 'cycling', 'localized_sport_type': 'Cycling', 'city': 'København', 'state': 'Capital RegionDenmark', 'country': 'Denmark', 'private': False, 'member_count': 0, 'featured': False, 'verified': False, 'url': 'cbscycling', 'membership': 'member', 'admin': False, 'owner': False}], 'postable_clubs_count': 9, 'ftp': 270, 'bikes': [{'id': 'b12931439', 'primary': False, 'name': 'Beast', 'nickname': 'Beast', 'resource_state': 2, 'retired': False, 'distance': 145806, 'converted_distance': 145.8}, {'id': 'b12931445', 'primary': False, 'name': 'Devil', 'nickname': 'Devil', 'resource_state': 2, 'retired': False, 'distance': 0, 'converted_distance': 0.0}], 'shoes': [{'id': 'g14531923', 'primary': False, 'name': 'HOKA ONE ONE Roket X', 'nickname': None, 'resource_state': 2, 'retired': False, 'distance': 146034, 'converted_distance': 146.0}, {'id': 'g13086956', 'primary': False, 'name': 'Saucony kirvana 11', 'nickname': None, 'resource_state': 2, 'retired': False, 'distance': 254276, 'converted_distance': 254.3}, {'id': 'g12750673', 'primary': False, 'name': 'Adidas boston 11', 'nickname': '', 'resource_state': 2, 'retired': False, 'distance': 64847, 'converted_distance': 64.8}, {'id': 'g13160972', 'primary': False, 'name': 'HOKA ONE ONE Clifton 8 Hoka Blue', 'nickname': 'Hoka Blue', 'resource_state': 2, 'retired': False, 'distance': 966091, 'converted_distance': 966.1}], 'is_winback_via_upload': False, 'is_winback_via_view': False}\n",
      "35\n"
     ]
    }
   ],
   "source": [
    "# api-endpoint\n",
    "athlete_url = \"http://www.strava.com/api/v3/athlete/\"\n",
    " \n",
    "# defining a params dict for the parameters to be sent to the API\n",
    "params = {'access_token':access_token}\n",
    " \n",
    "# sending get request and saving the response as response object\n",
    "r = requests.get(url = athlete_url, params = params)\n",
    " \n",
    "# extracting data in json format\n",
    "athlete = r.json()\n",
    "\n",
    "print(athlete)\n",
    "print(len(athlete))\n",
    "\n",
    "\n",
    "############################\n",
    "# create table clubs and add athlete_id as column\n",
    "clubs = pd.DataFrame(athlete['clubs'])\n",
    "clubs['athlete_id'] = athlete['id']\n",
    "\n",
    "clubs.to_csv('clubs.csv')\n",
    "\n",
    "\n",
    "############################\n",
    "# create table gear and add athlete_id as column (add gear_type column)\n",
    "\n",
    "bikes = pd.DataFrame(athlete['bikes'])\n",
    "bikes['athlete_id'] = athlete['id']\n",
    "bikes['gear_type'] = 'bike'\n",
    "\n",
    "shoes = pd.DataFrame(athlete['shoes'])\n",
    "shoes['athlete_id'] = athlete['id']\n",
    "shoes['gear_type'] = 'shoe'\n",
    "\n",
    "gear = pd.concat([bikes, shoes], ignore_index=True)\n",
    "\n",
    "gear.to_csv('gear.csv')\n",
    "\n",
    "\n",
    "############################\n",
    "# create athlete DF\n",
    "\n",
    "# Keys to drop\n",
    "keys_to_drop = ['shoes', 'bikes', 'clubs']\n",
    "\n",
    "# Remove the specified keys from the dictionary\n",
    "for key in keys_to_drop:\n",
    "    if key in athlete:\n",
    "        del athlete[key]\n",
    "\n",
    "athlete_df = pd.DataFrame(athlete, index = ['0'])\n",
    "athlete_df.to_csv('athlete.csv')"
   ]
  },
  {
   "cell_type": "code",
   "execution_count": 70,
   "metadata": {},
   "outputs": [],
   "source": [
    "#with open(\"athlete.json\", \"w\") as outfile:\n",
    "#    json.dump(athlete, outfile)"
   ]
  },
  {
   "cell_type": "markdown",
   "metadata": {},
   "source": [
    "## Get Athlete Zones"
   ]
  },
  {
   "cell_type": "code",
   "execution_count": 71,
   "metadata": {},
   "outputs": [
    {
     "name": "stdout",
     "output_type": "stream",
     "text": [
      "{'heart_rate': {'custom_zones': False, 'zones': [{'min': 0, 'max': 127}, {'min': 127, 'max': 158}, {'min': 158, 'max': 174}, {'min': 174, 'max': 190}, {'min': 190, 'max': -1}]}, 'power': {'zones': [{'min': 0, 'max': 149}, {'min': 150, 'max': 203}, {'min': 204, 'max': 243}, {'min': 244, 'max': 284}, {'min': 285, 'max': 324}, {'min': 325, 'max': 405}, {'min': 406, 'max': -1}]}}\n"
     ]
    }
   ],
   "source": [
    "# api-endpoint\n",
    "athlete_zones_url = \"http://www.strava.com/api/v3/athlete/zones\"\n",
    " \n",
    "# defining a params dict for the parameters to be sent to the API\n",
    "params = {'access_token':access_token}\n",
    " \n",
    "# sending get request and saving the response as response object\n",
    "r = requests.get(url = athlete_zones_url, params = params)\n",
    " \n",
    "# extracting data in json format\n",
    "athlete_zones = r.json()\n",
    "\n",
    "print(athlete_zones)\n",
    "\n",
    "\n",
    "############################\n",
    "# Create DF for athlete zones\n",
    "zones = []\n",
    "\n",
    "for t in athlete_zones['heart_rate']['zones']:\n",
    "    zones_row = []\n",
    "    zones_row.append('heart_rate')\n",
    "    zones_row.append(t['min'])\n",
    "    zones_row.append(t['max'])\n",
    "    zones.append(zones_row)\n",
    "\n",
    "for t in athlete_zones['power']['zones']:\n",
    "    zones_row = []\n",
    "    zones_row.append('power')\n",
    "    zones_row.append(t['min'])\n",
    "    zones_row.append(t['max'])\n",
    "    zones.append(zones_row)\n",
    "\n",
    "athlete_zones = pd.DataFrame(zones)\n",
    "athlete_zones.columns = ['type','min','max']\n",
    "athlete_zones['athlete_id'] = athlete['id']\n",
    "\n",
    "athlete_zones.to_csv('athlete_zones.csv')"
   ]
  },
  {
   "cell_type": "markdown",
   "metadata": {},
   "source": [
    "## Get Athlete Stats"
   ]
  },
  {
   "cell_type": "code",
   "execution_count": 96,
   "metadata": {},
   "outputs": [
    {
     "name": "stdout",
     "output_type": "stream",
     "text": [
      "{'biggest_ride_distance': 101638.0, 'biggest_climb_elevation_gain': 112.315, 'recent_ride_totals': {'count': 1, 'distance': 63397.3203125, 'moving_time': 7005, 'elapsed_time': 7325, 'elevation_gain': 216.0, 'achievement_count': 95}, 'all_ride_totals': {'count': 142, 'distance': 5929612, 'moving_time': 765814, 'elapsed_time': 856115, 'elevation_gain': 24767}, 'recent_run_totals': {'count': 12, 'distance': 166465.931640625, 'moving_time': 47281, 'elapsed_time': 50426, 'elevation_gain': 645.8572616577148, 'achievement_count': 60}, 'all_run_totals': {'count': 430, 'distance': 5003856, 'moving_time': 1475923, 'elapsed_time': 1621735, 'elevation_gain': 22964}, 'recent_swim_totals': {'count': 4, 'distance': 9425.0, 'moving_time': 11385, 'elapsed_time': 14056, 'elevation_gain': 0.0, 'achievement_count': 0}, 'all_swim_totals': {'count': 73, 'distance': 134632, 'moving_time': 168198, 'elapsed_time': 208653, 'elevation_gain': 12}, 'ytd_ride_totals': {'count': 72, 'distance': 3265325, 'moving_time': 407350, 'elapsed_time': 459736, 'elevation_gain': 17934}, 'ytd_run_totals': {'count': 151, 'distance': 2035368, 'moving_time': 574224, 'elapsed_time': 651802, 'elevation_gain': 9066}, 'ytd_swim_totals': {'count': 58, 'distance': 111117, 'moving_time': 134534, 'elapsed_time': 166111, 'elevation_gain': 12}}\n"
     ]
    }
   ],
   "source": [
    "# api-endpoint\n",
    "athlete_stats_url = \"http://www.strava.com/api/v3/athletes/\" + str(athlete['id']) + \"/stats\"\n",
    " \n",
    "# defining a params dict for the parameters to be sent to the API\n",
    "params = {'access_token':access_token}\n",
    " \n",
    "# sending get request and saving the response as response object\n",
    "r = requests.get(url = athlete_stats_url, params = params)\n",
    " \n",
    "# extracting data in json format\n",
    "athlete_stats = r.json()\n",
    "\n",
    "print(athlete_stats)\n",
    "\n",
    "\n",
    "############################\n",
    "# remove two stats (as they are of different format)\n",
    "biggest_ride_distance = athlete_stats['biggest_ride_distance']\n",
    "biggest_climb_elevation_gain = athlete_stats['biggest_climb_elevation_gain']\n",
    "\n",
    "# Keys to drop\n",
    "keys_to_drop = ['biggest_ride_distance', 'biggest_climb_elevation_gain',]\n",
    "\n",
    "# Remove the specified keys from the dictionary\n",
    "for key in keys_to_drop:\n",
    "    if key in athlete_stats:\n",
    "        del athlete_stats[key]\n",
    "\n",
    "# restructure data format, so it fits in a wide-form DF\n",
    "athlete_stats_array = []\n",
    "\n",
    "for x in athlete_stats:\n",
    "    for z in athlete_stats[x]:\n",
    "        row = []\n",
    "        row.append(x)\n",
    "        row.append(z)\n",
    "        row.append(athlete_stats[x][z])\n",
    "        athlete_stats_array.append(row)\n",
    "\n",
    "# create DF based on API output\n",
    "athlete_stats_df = pd.DataFrame(athlete_stats_array)\n",
    "\n",
    "# name columns of DF\n",
    "athlete_stats_df.columns = ['group','key','value']\n",
    "\n",
    "# add two rows that have been extracted before\n",
    "athlete_stats_df.loc[len(athlete_stats_df)] = ['best_bike_performance', 'biggest_ride_distance', biggest_ride_distance]\n",
    "athlete_stats_df.loc[len(athlete_stats_df)] = ['best_bike_performance', 'biggest_climb_elevation_gain', biggest_climb_elevation_gain]\n",
    "\n",
    "athlete_stats_df['athlete_id'] = athlete['id']\n",
    "\n",
    "athlete_stats_df.to_csv('athlete_stats.csv')"
   ]
  },
  {
   "cell_type": "code",
   "execution_count": 48,
   "metadata": {},
   "outputs": [],
   "source": [
    "# with open(\"athlete_stats.json\", \"w\") as outfile:\n",
    "#     json.dump(athlete_stats, outfile)"
   ]
  },
  {
   "cell_type": "markdown",
   "metadata": {},
   "source": [
    "## Get Activities"
   ]
  },
  {
   "cell_type": "code",
   "execution_count": 30,
   "metadata": {},
   "outputs": [
    {
     "name": "stdout",
     "output_type": "stream",
     "text": [
      "110\n",
      "48\n",
      "{'resource_state': 2, 'athlete': {'id': 81994109, 'resource_state': 1}, 'name': 'Evening Run', 'distance': 10009.0, 'moving_time': 2904, 'elapsed_time': 3112, 'total_elevation_gain': 100.0, 'type': 'Run', 'sport_type': 'Run', 'workout_type': 0, 'id': 6302136410, 'start_date': '2021-11-24T17:12:16Z', 'start_date_local': '2021-11-24T18:12:16Z', 'timezone': '(GMT+01:00) Europe/Rome', 'utc_offset': 3600.0, 'location_city': None, 'location_state': None, 'location_country': None, 'achievement_count': 3, 'kudos_count': 1, 'comment_count': 1, 'athlete_count': 1, 'photo_count': 0, 'map': {'id': 'a6302136410', 'summary_polyline': 'cpw~Fa}gkALJ\\\\h@DT?d@GL[Nc@^}@lAKd@Cd@Hd@X|@RZ^f@`@vA`@x@J^AHQVoAfA[\\\\I^Gr@g@~BKn@KVW^]n@Sz@KTMt@Ul@]f@]VYFe@@WHgAz@o@`@_Av@k@\\\\GLQPm@b@OV_@Xe@Vw@La@PKNC\\\\CHKHYz@IFEGDDADGL{ApA}@lA}@x@_AbAs@l@k@l@Y^g@dAWn@MNaAb@c@Ja@A_@]iAmAw@]iB_BU[mA}@qAkA]UGO?IHo@z@kBz@{AXm@Hc@CWWi@{@qAUWYGa@Ak@Rk@d@a@h@O\\\\Y|@i@vAy@rA{@dBa@l@GPEZ@`@Bh@n@jDNzAPhAJ\\\\fArCR\\\\`@\\\\DPGl@iB|EiAnCWjAUj@Sn@INYROVGTARBTHTJNPFZBFALMJYJg@@[Eo@F[l@kBLWRSHGH?XFd@RHCBEBKGI]Ia@e@EMAWFUzAmDVoBASIMo@c@Yc@]_AKm@_@gAK{@QmBa@oBWk@ES?MDY\\\\oAp@gA`A}BlA_CXo@jBoDl@qAj@cAT{@`@aAb@w@d@g@NKJ@JF^\\\\v@jAjBvBl@j@lBvBZVlCtCLNLZB`@IzAQpAK\\\\[\\\\iAV_A`As@vAkC`FGRAPBNLPdChCRZJf@HfAz@fCbAnD`AvDRpAJbATjAp@nE@VCNY\\\\a@PGFMZ?LYDeCaACO^GZ@VGe@eAi@w@w@}CSo@CO@M`@_@^Hf@Dr@YPQXOPHLa@QgBMo@k@oBy@}Bi@sB{@{B[i@_@}@Ya@wBwBwBiBu@g@oCaCIKIO?Qh@}@V[`@YPUFD^w@PSJYrB}BRa@jAkAPGTg@NUbAcAZQb@kALSZUv@aAh@g@JBX\\\\Lp@@x@Et@BxAFd@Vp@Nx@?ZYl@?ZPRj@`@bB~AXL`@AXFXG^a@VKzAiA~@c@bA}@`@W`@OlBoAZOPQbBw@f@BPGlBmC\\\\eAh@oClAiDRc@\\\\e@Tw@lA}A@KIOQW{@mBi@y@_AmBE]DYDGfAkAl@g@Pi@Zg@BMC}@GWyBcEMc@AWNa@HMbAgA`@[~AqB`Ak@T]GMASWB_@PQNS\\\\GTBVLXZd@RTF@JCTWDIDWO@?EW@GAIKQEA^ELKNYXODL_@', 'resource_state': 2}, 'trainer': False, 'commute': False, 'manual': False, 'private': False, 'visibility': 'everyone', 'flagged': False, 'gear_id': None, 'start_latlng': [41.90482618287206, 12.497616363689303], 'end_latlng': [41.904150769114494, 12.499612346291542], 'average_speed': 3.447, 'max_speed': 10.28, 'average_cadence': 75.9, 'has_heartrate': False, 'heartrate_opt_out': False, 'display_hide_heartrate_option': False, 'elev_high': 73.8, 'elev_low': 38.5, 'upload_id': 6698128814, 'upload_id_str': '6698128814', 'external_id': 'efd44faa-bce1-4f6d-a557-f8c3cae4f100-activity.fit', 'from_accepted_tag': False, 'pr_count': 2, 'total_photo_count': 0, 'has_kudoed': False}\n"
     ]
    }
   ],
   "source": [
    "# api-endpoint\n",
    "activities_url = \"http://www.strava.com/api/v3/athlete/activities\"\n",
    " \n",
    "# defining a params dict for the parameters to be sent to the API\n",
    "params = {'access_token':access_token, 'per_page':'200', 'before':'1637884800'} \n",
    "# 'before':'1681776000'\n",
    "# 'before':'1664640603'\n",
    "# 'before':'1637884800'\n",
    " \n",
    "# sending get request and saving the response as response object\n",
    "r = requests.get(url = activities_url, params = params)\n",
    " \n",
    "# extracting data in json format\n",
    "activities = r.json()\n",
    "\n",
    "# get activity-ids\n",
    "activity_ids = [w['id'] for w in activities]\n",
    "\n",
    "# print data structure\n",
    "print(len(activities))\n",
    "print(len(activities[0]))\n",
    "print(activities[0])"
   ]
  },
  {
   "cell_type": "markdown",
   "metadata": {},
   "source": [
    "## Get Activity"
   ]
  },
  {
   "cell_type": "code",
   "execution_count": 154,
   "metadata": {},
   "outputs": [
    {
     "name": "stdout",
     "output_type": "stream",
     "text": [
      "{'resource_state': 3, 'athlete': {'id': 81994109, 'resource_state': 1}, 'name': 'Afternoon Run', 'distance': 15596.1, 'moving_time': 4661, 'elapsed_time': 4844, 'total_elevation_gain': 33.0, 'type': 'Run', 'sport_type': 'Run', 'workout_type': None, 'id': 10126705515, 'start_date': '2023-10-29T15:46:56Z', 'start_date_local': '2023-10-29T16:46:56Z', 'timezone': '(GMT+01:00) Europe/Copenhagen', 'utc_offset': 3600.0, 'location_city': None, 'location_state': None, 'location_country': 'Denmark', 'achievement_count': 7, 'kudos_count': 4, 'comment_count': 0, 'athlete_count': 1, 'photo_count': 0, 'map': {'id': 'a10126705515', 'polyline': 'ueqrI{cxkAGCbAJfAfAp@lAJbBJl@PbEVnBCz@Ex@i@tCY|Bk@lDa@`DKrAAx@@PFHrAV`Cn@dANd@TNZLC\\\\RJPDNCTI^Uj@IJw@jBWbAy@hBUb@]`Ae@r@Kn@EBy@AYb@]x@Mh@DL`@T`@PRFZBn@?j@GxBNf@BREb@A^Lf@APG^Hp@@tAF`BPrAFnALt@@bBN|@^bCv@b@Jh@Rv@Lp@VlBf@jC|@BDB\\\\E|PArAOrDB|@HlA@t@GhTIdF@dBHvDAfHBj@NvA|AnIBd@A`@Ej@Kf@Yj@u@z@m@dAaBpDc@v@iAdCMr@Hv@^~@n@lBz@`BtBjCVPn@bAb@bARlALhBRvAVlF^vDl@jDh@zAv@t@lCpBX`@x@tA^^dAt@vAxBf@j@Pv@HhA?rAMdAE~@BrACRDz@Zb@z@p@^THLh@X\\\\^xAlA|@`AVn@Hn@BAFKXq@HI^H^Pt@j@~B|A\\\\ZHJLHXs@jAoBvByD|AcC^_@Za@`AgCXo@^S\\\\YPcAHUpA_CdByCd@q@lAwBLw@EiHA_QEeFAwIE_FGkAG}@uAcJgCiPMeAq@eEK{@Ci@?kj@@_GAgO@{CAaE?aAFq@^cARs@^}@t@qBVe@NK`@Ar@Hr@K|Ai@hA[jAa@jBy@D@f@z@`@h@tAzBfClEvEzHnAzBbAxAvDvG`DfFtDlGzA~BzClF`AvAx@xAdDpFp@lA|DlGfAnBdE|GdBxCn@`AZFN]v@uDn@cC~@kEh@aCzA}FPu@V{@N{@bAuDb@iBtAmGBe@CEe@EUKSw@k@mCuDmPe@_CgGcYy@mD_AgEq@gDs@cCM{@WiAMw@YqAS{@UG}@QYJOh@m@n@a@^m@Vc@f@eA|@wB|BgB~B}@bA{@~AwAfDy@lAw@bBkAjAg@\\\\k@H{Cx@yANi@?_CTQ?c@Ma@]{@a@uB_B_@UM?c@DaACe@Kg@Uw@UoFhBy@RmAd@{@N{@CW@_@ZEFkAbDYj@a@hAY|@E?AGEw@OUIIcCyAwAq@g@]c@Kk@SMKWGCF[Fg@CyAc@}Aq@aAW]EW@uAW]Me@HcAFeAYWAYQKCk@?gAOmAi@i@CUIs@a@m@USYk@eAUg@QcA[c@m@c@iAi@m@a@YYD{@JaAMUa@Q{@Kw@Fy@Ie@Ic@Oe@Ee@a@I[Cq@@qDEw@Sg@a@G{CCe@a@a@UaA[wBi@a@GO@c@A}AWEYTeKVwBNc@CQFq@CGSCy@]g@m@c@UQOg@Qk@[eAIG@a@IUK_@Yg@Ie@AaBy@c@E{@Ya@Bm@rDQzAQx@[Ae@M{@[]WM]?E', 'resource_state': 3, 'summary_polyline': '{~prI}jwkAUpAY|Bk@lDUdBWnCAx@@PFHrAV`Cn@dANd@TNZLC\\\\RJPDN?JMh@Uj@IJw@jBWbAoAlC]`Ae@r@Kn@EBy@AYb@]x@Mh@DL`@T`@Pn@JzAG`DRv@G^Lf@APG^HfCH`BPbDTt@@bBN`EvAlA^v@L~C~@jC|@BDB\\\\E|PArAOrDB|@HlA@t@GhTIdF@dBHvDAfHBj@NvA|AnIBd@A`@Ej@Kf@Yj@u@z@m@dAaBpDc@v@iAdCMr@Hv@^~@n@lBz@`BtBjCVPn@bAb@bARlALhBRvALpC\\\\zEJv@l@jDh@zAXZjDjCX`@x@tA^^dAt@vAxBf@j@Pv@HhA?rAMdAE~@BrACRDz@Zb@zAfAHLh@XvBlB|@`AVn@Hn@BAFKXq@HI^H^PtDhC\\\\ZHJLHXs@jAoBvByD|AcC^_@Za@`AgCXo@^S\\\\YPcAHUpA_CdByCd@q@lAwBLw@EiHA_QEeFAwIE_FGkAG}@uAcJgCiPMeAq@eEK{@Ci@?kj@@_GAuB?qK@{CAcGFq@^cARs@^}@t@qBVe@NK`@Ar@Hr@KrFgBjBy@D@~C`FfClEvEzHnAzBbAxAvDvGrLtRzClF`AvApGxK|DlGfAnBzIxNZFN]v@uDn@cCvAwGlBsHPu@V{@N{@bAuDb@iBtAmGBe@CEe@EUKSw@k@mCuDmPe@_CgGcYy@mD_AgEq@gDs@cCM{@Sw@QiAm@mCsAYYJOh@m@n@a@^m@Vc@f@eA|@yAzAeC`D}@bA{@~AwAfDy@lAw@bBkAjAg@\\\\k@H{Cx@uGd@c@Ma@]{@a@uB_B_@Uq@DaACmAa@w@UoFhBy@RmAd@{@NsAA_@ZEFkAbDYj@a@hAQr@GHE?G_AOUIIcCyAwAq@g@]oA_@MKWGCF[Fg@CyAc@}Aq@aAWu@CuAW]Me@HcAFeAYWAe@Uk@?gAOmAi@i@CUIs@a@m@USYk@eAUg@QcA[c@m@c@iAi@m@a@YYD{@JaAMUa@Q{@Kw@Fy@IiAYe@Ee@a@I[Cq@@qDEw@Sg@a@G{CCe@a@a@UaA[wBi@a@Gs@?}AWEYTeKVwBNc@CQFq@CGSCy@]g@m@u@e@g@Qk@[mAGa@Iu@e@g@Ie@AaBy@'}, 'trainer': False, 'commute': False, 'manual': False, 'private': False, 'visibility': 'everyone', 'flagged': False, 'gear_id': 'g13160972', 'start_latlng': [55.634990260005, 12.5806200876832], 'end_latlng': [55.63438341021538, 12.579239420592785], 'average_speed': 3.346, 'max_speed': 9.134, 'average_cadence': 83.0, 'average_temp': 21, 'has_heartrate': True, 'average_heartrate': 146.7, 'max_heartrate': 159.0, 'heartrate_opt_out': False, 'display_hide_heartrate_option': True, 'elev_high': 14.2, 'elev_low': -0.2, 'upload_id': 10847358839, 'upload_id_str': '10847358839', 'external_id': 'garmin_ping_302067927366', 'from_accepted_tag': False, 'pr_count': 0, 'total_photo_count': 0, 'has_kudoed': False, 'suffer_score': 59.0, 'description': None, 'calories': 1052.0, 'perceived_exertion': None, 'prefer_perceived_exertion': None, 'segment_efforts': [{'id': 3153758577866604770, 'resource_state': 2, 'name': 'En tur i skoven', 'activity': {'id': 10126705515, 'visibility': 'everyone', 'resource_state': 1}, 'athlete': {'id': 81994109, 'resource_state': 1}, 'elapsed_time': 378, 'moving_time': 378, 'start_date': '2023-10-29T15:56:59Z', 'start_date_local': '2023-10-29T16:56:59Z', 'distance': 1270.5, 'start_index': 184, 'end_index': 273, 'average_cadence': 82.6, 'device_watts': False, 'average_heartrate': 145.6, 'max_heartrate': 150.0, 'segment': {'id': 21808762, 'resource_state': 2, 'name': 'En tur i skoven', 'activity_type': 'Run', 'distance': 1270.5, 'average_grade': -0.3, 'maximum_grade': 3.7, 'elevation_high': -9.2, 'elevation_low': -14.8, 'start_latlng': [55.62599, 12.566201], 'end_latlng': [55.627295, 12.547709], 'elevation_profile': None, 'climb_category': 0, 'city': 'København', 'state': None, 'country': 'Denmark', 'private': False, 'hazardous': False, 'starred': False}, 'pr_rank': None, 'achievements': [], 'visibility': 'everyone', 'kom_rank': None, 'hidden': False}, {'id': 3153758577869371618, 'resource_state': 2, 'name': 'Fasaner og snepper', 'activity': {'id': 10126705515, 'visibility': 'everyone', 'resource_state': 1}, 'athlete': {'id': 81994109, 'resource_state': 1}, 'elapsed_time': 621, 'moving_time': 621, 'start_date': '2023-10-29T15:57:24Z', 'start_date_local': '2023-10-29T16:57:24Z', 'distance': 2069.1, 'start_index': 190, 'end_index': 337, 'average_cadence': 82.4, 'device_watts': False, 'average_heartrate': 145.6, 'max_heartrate': 150.0, 'segment': {'id': 21808734, 'resource_state': 2, 'name': 'Fasaner og snepper', 'activity_type': 'Run', 'distance': 2069.1, 'average_grade': -0.2, 'maximum_grade': 3.7, 'elevation_high': -9.2, 'elevation_low': -15.4, 'start_latlng': [55.626004, 12.56489], 'end_latlng': [55.622556, 12.537702], 'elevation_profile': None, 'climb_category': 0, 'city': 'København', 'state': None, 'country': 'Denmark', 'private': False, 'hazardous': False, 'starred': False}, 'pr_rank': None, 'achievements': [], 'visibility': 'everyone', 'kom_rank': None, 'hidden': False}, {'id': 3153758577867010274, 'resource_state': 2, 'name': 'Snepper og fasaner', 'activity': {'id': 10126705515, 'visibility': 'everyone', 'resource_state': 1}, 'athlete': {'id': 81994109, 'resource_state': 1}, 'elapsed_time': 147, 'moving_time': 147, 'start_date': '2023-10-29T16:07:54Z', 'start_date_local': '2023-10-29T17:07:54Z', 'distance': 494.7, 'start_index': 339, 'end_index': 375, 'average_cadence': 82.5, 'device_watts': False, 'average_heartrate': 146.9, 'max_heartrate': 151.0, 'segment': {'id': 21808742, 'resource_state': 2, 'name': 'Snepper og fasaner', 'activity_type': 'Run', 'distance': 494.7, 'average_grade': -0.4, 'maximum_grade': 1.7, 'elevation_high': -15.0, 'elevation_low': -17.4, 'start_latlng': [55.622403, 12.537539], 'end_latlng': [55.619885, 12.532156], 'elevation_profile': None, 'climb_category': 0, 'city': 'Kastrup', 'state': None, 'country': 'Denmark', 'private': False, 'hazardous': False, 'starred': False}, 'pr_rank': 2, 'achievements': [{'type_id': 3, 'type': 'pr', 'rank': 2}], 'visibility': 'everyone', 'kom_rank': None, 'hidden': False}, {'id': 3153758577867567330, 'resource_state': 2, 'name': 'Kalvebod Sti - Sving til Sving', 'activity': {'id': 10126705515, 'visibility': 'everyone', 'resource_state': 1}, 'athlete': {'id': 81994109, 'resource_state': 1}, 'elapsed_time': 69, 'moving_time': 69, 'start_date': '2023-10-29T16:13:32Z', 'start_date_local': '2023-10-29T17:13:32Z', 'distance': 240.0, 'start_index': 419, 'end_index': 437, 'average_cadence': 82.9, 'device_watts': False, 'average_heartrate': 146.9, 'max_heartrate': 151.0, 'segment': {'id': 21808771, 'resource_state': 2, 'name': 'Kalvebod Sti - Sving til Sving', 'activity_type': 'Run', 'distance': 240.0, 'average_grade': -0.3, 'maximum_grade': 2.6, 'elevation_high': -18.0, 'elevation_low': -20.4, 'start_latlng': [55.615342, 12.535798], 'end_latlng': [55.613792, 12.538256], 'elevation_profile': None, 'climb_category': 0, 'city': 'Kastrup', 'state': None, 'country': 'Denmark', 'private': False, 'hazardous': False, 'starred': False}, 'pr_rank': 2, 'achievements': [{'type_id': 3, 'type': 'pr', 'rank': 2}], 'visibility': 'everyone', 'kom_rank': None, 'hidden': False}, {'id': 3153758577869396194, 'resource_state': 2, 'name': 'SNEPPE TIL SNEPPE', 'activity': {'id': 10126705515, 'visibility': 'everyone', 'resource_state': 1}, 'athlete': {'id': 81994109, 'resource_state': 1}, 'elapsed_time': 174, 'moving_time': 174, 'start_date': '2023-10-29T16:15:36Z', 'start_date_local': '2023-10-29T17:15:36Z', 'distance': 584.1, 'start_index': 449, 'end_index': 493, 'average_cadence': 82.9, 'device_watts': False, 'average_heartrate': 148.0, 'max_heartrate': 151.0, 'segment': {'id': 21808069, 'resource_state': 2, 'name': 'SNEPPE TIL SNEPPE', 'activity_type': 'Run', 'distance': 584.1, 'average_grade': 0.2, 'maximum_grade': 1.9, 'elevation_high': 8.6, 'elevation_low': 5.8, 'start_latlng': [55.61372, 12.540957], 'end_latlng': [55.61451, 12.549955], 'elevation_profile': None, 'climb_category': 0, 'city': 'Kastrup', 'state': None, 'country': 'Denmark', 'private': False, 'hazardous': False, 'starred': False}, 'pr_rank': 2, 'achievements': [{'type_id': 3, 'type': 'pr', 'rank': 2}], 'visibility': 'everyone', 'kom_rank': None, 'hidden': False}, {'id': 3153758577867719906, 'resource_state': 2, 'name': 'Spurten til Kanonvej', 'activity': {'id': 10126705515, 'visibility': 'everyone', 'resource_state': 1}, 'athlete': {'id': 81994109, 'resource_state': 1}, 'elapsed_time': 212, 'moving_time': 212, 'start_date': '2023-10-29T16:19:48Z', 'start_date_local': '2023-10-29T17:19:48Z', 'distance': 713.5, 'start_index': 512, 'end_index': 558, 'average_cadence': 83.0, 'device_watts': False, 'average_heartrate': 148.8, 'max_heartrate': 153.0, 'segment': {'id': 21808784, 'resource_state': 2, 'name': 'Spurten til Kanonvej', 'activity_type': 'Run', 'distance': 713.5, 'average_grade': 0.1, 'maximum_grade': 3.1, 'elevation_high': -17.4, 'elevation_low': -19.2, 'start_latlng': [55.615479, 12.553932], 'end_latlng': [55.615475, 12.565189], 'elevation_profile': None, 'climb_category': 0, 'city': 'Kastrup', 'state': None, 'country': 'Denmark', 'private': False, 'hazardous': False, 'starred': False}, 'pr_rank': 2, 'achievements': [{'type_id': 3, 'type': 'pr', 'rank': 2}], 'visibility': 'everyone', 'kom_rank': None, 'hidden': False}, {'id': 3153758577867248866, 'resource_state': 2, 'name': 'Kalvebod Sti til Granatvej', 'activity': {'id': 10126705515, 'visibility': 'everyone', 'resource_state': 1}, 'athlete': {'id': 81994109, 'resource_state': 1}, 'elapsed_time': 125, 'moving_time': 125, 'start_date': '2023-10-29T16:23:52Z', 'start_date_local': '2023-10-29T17:23:52Z', 'distance': 411.2, 'start_index': 565, 'end_index': 594, 'average_cadence': 83.2, 'device_watts': False, 'average_heartrate': 148.4, 'max_heartrate': 151.0, 'segment': {'id': 21771202, 'resource_state': 2, 'name': 'Kalvebod Sti til Granatvej', 'activity_type': 'Run', 'distance': 411.2, 'average_grade': -0.4, 'maximum_grade': 2.2, 'elevation_high': -2.2, 'elevation_low': -3.8, 'start_latlng': [55.615419, 12.567133], 'end_latlng': [55.612179, 12.569501], 'elevation_profile': None, 'climb_category': 0, 'city': 'København S', 'state': None, 'country': 'Denmark', 'private': False, 'hazardous': False, 'starred': False}, 'pr_rank': 2, 'achievements': [{'type_id': 3, 'type': 'pr', 'rank': 2}], 'visibility': 'everyone', 'kom_rank': None, 'hidden': False}, {'id': 3153758577866325218, 'resource_state': 2, 'name': 'Kalvebod Sti til Svenskeholmvej', 'activity': {'id': 10126705515, 'visibility': 'everyone', 'resource_state': 1}, 'athlete': {'id': 81994109, 'resource_state': 1}, 'elapsed_time': 654, 'moving_time': 654, 'start_date': '2023-10-29T16:23:52Z', 'start_date_local': '2023-10-29T17:23:52Z', 'distance': 2172.3, 'start_index': 565, 'end_index': 726, 'average_cadence': 83.4, 'device_watts': False, 'average_heartrate': 148.8, 'max_heartrate': 153.0, 'segment': {'id': 31230546, 'resource_state': 2, 'name': 'Kalvebod Sti til Svenskeholmvej', 'activity_type': 'Run', 'distance': 2172.3, 'average_grade': -0.0, 'maximum_grade': 1.0, 'elevation_high': 0.5, 'elevation_low': -0.6, 'start_latlng': [55.615416, 12.567011], 'end_latlng': [55.599976, 12.552018], 'elevation_profile': None, 'climb_category': 0, 'city': 'København', 'state': None, 'country': 'Denmark', 'private': False, 'hazardous': False, 'starred': False}, 'pr_rank': None, 'achievements': [], 'visibility': 'everyone', 'kom_rank': None, 'hidden': False}, {'id': 3153758577866626274, 'resource_state': 2, 'name': 'Svenskeholmevej (Granatvej til Ugandavej)', 'activity': {'id': 10126705515, 'visibility': 'everyone', 'resource_state': 1}, 'athlete': {'id': 81994109, 'resource_state': 1}, 'elapsed_time': 238, 'moving_time': 185, 'start_date': '2023-10-29T16:34:41Z', 'start_date_local': '2023-10-29T17:34:41Z', 'distance': 622.1, 'start_index': 725, 'end_index': 777, 'average_cadence': 75.6, 'device_watts': False, 'average_heartrate': 139.0, 'max_heartrate': 151.0, 'segment': {'id': 21771294, 'resource_state': 2, 'name': 'Svenskeholmevej (Granatvej til Ugandavej)', 'activity_type': 'Run', 'distance': 622.1, 'average_grade': 0.2, 'maximum_grade': 2.6, 'elevation_high': 0.4, 'elevation_low': -1.2, 'start_latlng': [55.600043, 12.55201], 'end_latlng': [55.597104, 12.560379], 'elevation_profile': None, 'climb_category': 0, 'city': 'Kastrup', 'state': None, 'country': 'Denmark', 'private': False, 'hazardous': False, 'starred': False}, 'pr_rank': None, 'achievements': [], 'visibility': 'everyone', 'kom_rank': None, 'hidden': False}, {'id': 3153758577869440226, 'resource_state': 2, 'name': 'Ugandavej - Tree line to tree line', 'activity': {'id': 10126705515, 'visibility': 'everyone', 'resource_state': 1}, 'athlete': {'id': 81994109, 'resource_state': 1}, 'elapsed_time': 275, 'moving_time': 275, 'start_date': '2023-10-29T16:39:00Z', 'start_date_local': '2023-10-29T17:39:00Z', 'distance': 886.3, 'start_index': 782, 'end_index': 849, 'average_cadence': 82.8, 'device_watts': False, 'average_heartrate': 146.8, 'max_heartrate': 151.0, 'segment': {'id': 19092713, 'resource_state': 2, 'name': 'Ugandavej - Tree line to tree line', 'activity_type': 'Run', 'distance': 886.3, 'average_grade': 0.1, 'maximum_grade': 1.5, 'elevation_high': -0.3, 'elevation_low': -1.8, 'start_latlng': [55.597467, 12.560966], 'end_latlng': [55.601624, 12.573372], 'elevation_profile': None, 'climb_category': 0, 'city': 'Kastrup', 'state': None, 'country': 'Denmark', 'private': False, 'hazardous': False, 'starred': False}, 'pr_rank': 2, 'achievements': [{'type_id': 3, 'type': 'pr', 'rank': 2}], 'visibility': 'everyone', 'kom_rank': None, 'hidden': False}, {'id': 3153758577867225314, 'resource_state': 2, 'name': 'Lærkestien - mod nord', 'activity': {'id': 10126705515, 'visibility': 'everyone', 'resource_state': 1}, 'athlete': {'id': 81994109, 'resource_state': 1}, 'elapsed_time': 343, 'moving_time': 343, 'start_date': '2023-10-29T16:44:22Z', 'start_date_local': '2023-10-29T17:44:22Z', 'distance': 1163.1, 'start_index': 859, 'end_index': 940, 'average_cadence': 83.1, 'device_watts': False, 'average_heartrate': 152.1, 'max_heartrate': 156.0, 'segment': {'id': 21470219, 'resource_state': 2, 'name': 'Lærkestien - mod nord', 'activity_type': 'Run', 'distance': 1163.1, 'average_grade': -0.1, 'maximum_grade': 5.0, 'elevation_high': 1.9, 'elevation_low': -2.5, 'start_latlng': [55.602499, 12.574048], 'end_latlng': [55.611811, 12.569515], 'elevation_profile': None, 'climb_category': 0, 'city': 'Kastrup', 'state': None, 'country': 'Denmark', 'private': False, 'hazardous': False, 'starred': False}, 'pr_rank': None, 'achievements': [], 'visibility': 'everyone', 'kom_rank': None, 'hidden': False}, {'id': 3153758577868891362, 'resource_state': 2, 'name': 'Granatvej til Kalvebod Sti', 'activity': {'id': 10126705515, 'visibility': 'everyone', 'resource_state': 1}, 'athlete': {'id': 81994109, 'resource_state': 1}, 'elapsed_time': 211, 'moving_time': 101, 'start_date': '2023-10-29T16:50:06Z', 'start_date_local': '2023-10-29T17:50:06Z', 'distance': 407.1, 'start_index': 941, 'end_index': 967, 'average_cadence': 68.0, 'device_watts': False, 'average_heartrate': 124.7, 'max_heartrate': 150.0, 'segment': {'id': 21771236, 'resource_state': 2, 'name': 'Granatvej til Kalvebod Sti', 'activity_type': 'Run', 'distance': 407.1, 'average_grade': -0.0, 'maximum_grade': 2.7, 'elevation_high': -6.2, 'elevation_low': -8.2, 'start_latlng': [55.612172, 12.569508], 'end_latlng': [55.615361, 12.567112], 'elevation_profile': None, 'climb_category': 0, 'city': 'København', 'state': None, 'country': 'Denmark', 'private': False, 'hazardous': False, 'starred': False}, 'pr_rank': None, 'achievements': [], 'visibility': 'everyone', 'kom_rank': None, 'hidden': False}, {'id': 3153758577865681122, 'resource_state': 2, 'name': 'Ove Arups Vej cycle bridge north', 'activity': {'id': 10126705515, 'visibility': 'everyone', 'resource_state': 1}, 'athlete': {'id': 81994109, 'resource_state': 1}, 'elapsed_time': 37, 'moving_time': 37, 'start_date': '2023-10-29T17:02:20Z', 'start_date_local': '2023-10-29T18:02:20Z', 'distance': 117.3, 'start_index': 1099, 'end_index': 1106, 'average_cadence': 83.4, 'device_watts': False, 'average_heartrate': 147.0, 'max_heartrate': 150.0, 'segment': {'id': 30183048, 'resource_state': 2, 'name': 'Ove Arups Vej cycle bridge north', 'activity_type': 'Run', 'distance': 117.3, 'average_grade': 0.2, 'maximum_grade': 0.9, 'elevation_high': 6.4, 'elevation_low': 5.8, 'start_latlng': [55.627936, 12.57513], 'end_latlng': [55.628969, 12.575493], 'elevation_profile': None, 'climb_category': 0, 'city': 'Copenhagen', 'state': None, 'country': 'Denmark', 'private': False, 'hazardous': False, 'starred': False}, 'pr_rank': 2, 'achievements': [{'type_id': 3, 'type': 'pr', 'rank': 2}], 'visibility': 'everyone', 'kom_rank': None, 'hidden': False}], 'splits_metric': [{'distance': 1002.4, 'elapsed_time': 280, 'elevation_difference': 8.2, 'moving_time': 277, 'split': 1, 'average_speed': 3.62, 'average_grade_adjusted_speed': 3.73, 'average_heartrate': 142.79400749063672, 'pace_zone': 2}, {'distance': 999.4, 'elapsed_time': 293, 'elevation_difference': -2.8, 'moving_time': 293, 'split': 2, 'average_speed': 3.41, 'average_grade_adjusted_speed': 3.42, 'average_heartrate': 147.96587030716722, 'pace_zone': 2}, {'distance': 1001.0, 'elapsed_time': 299, 'elevation_difference': 1.8, 'moving_time': 299, 'split': 3, 'average_speed': 3.35, 'average_grade_adjusted_speed': 3.36, 'average_heartrate': 145.77257525083613, 'pace_zone': 2}, {'distance': 1000.9, 'elapsed_time': 304, 'elevation_difference': -0.6, 'moving_time': 304, 'split': 4, 'average_speed': 3.29, 'average_grade_adjusted_speed': 3.29, 'average_heartrate': 145.23684210526315, 'pace_zone': 2}, {'distance': 998.4, 'elapsed_time': 301, 'elevation_difference': -1.2, 'moving_time': 301, 'split': 5, 'average_speed': 3.32, 'average_grade_adjusted_speed': 3.31, 'average_heartrate': 146.86046511627907, 'pace_zone': 2}, {'distance': 998.9, 'elapsed_time': 302, 'elevation_difference': 1.0, 'moving_time': 302, 'split': 6, 'average_speed': 3.31, 'average_grade_adjusted_speed': 3.32, 'average_heartrate': 146.7185430463576, 'pace_zone': 2}, {'distance': 999.6, 'elapsed_time': 295, 'elevation_difference': 0.0, 'moving_time': 295, 'split': 7, 'average_speed': 3.39, 'average_grade_adjusted_speed': 3.39, 'average_heartrate': 148.73898305084745, 'pace_zone': 2}, {'distance': 1001.7, 'elapsed_time': 300, 'elevation_difference': 2.4, 'moving_time': 300, 'split': 8, 'average_speed': 3.34, 'average_grade_adjusted_speed': 3.36, 'average_heartrate': 148.49, 'pace_zone': 2}, {'distance': 998.1, 'elapsed_time': 302, 'elevation_difference': 3.6, 'moving_time': 302, 'split': 9, 'average_speed': 3.3, 'average_grade_adjusted_speed': 3.33, 'average_heartrate': 148.79470198675497, 'pace_zone': 2}, {'distance': 1000.9, 'elapsed_time': 295, 'elevation_difference': -0.8, 'moving_time': 295, 'split': 10, 'average_speed': 3.39, 'average_grade_adjusted_speed': 3.39, 'average_heartrate': 149.00677966101694, 'pace_zone': 2}, {'distance': 999.7, 'elapsed_time': 353, 'elevation_difference': -5.6, 'moving_time': 301, 'split': 11, 'average_speed': 3.32, 'average_grade_adjusted_speed': 3.3, 'average_heartrate': 144.94333333333333, 'pace_zone': 2}, {'distance': 1000.4, 'elapsed_time': 298, 'elevation_difference': -2.0, 'moving_time': 298, 'split': 12, 'average_speed': 3.36, 'average_grade_adjusted_speed': 3.35, 'average_heartrate': 150.14093959731542, 'pace_zone': 2}, {'distance': 1000.8, 'elapsed_time': 412, 'elevation_difference': 2.6, 'moving_time': 302, 'split': 13, 'average_speed': 3.31, 'average_grade_adjusted_speed': 3.35, 'average_heartrate': 145.41390728476821, 'pace_zone': 2}, {'distance': 999.2, 'elapsed_time': 303, 'elevation_difference': -1.2, 'moving_time': 303, 'split': 14, 'average_speed': 3.3, 'average_grade_adjusted_speed': 3.3, 'average_heartrate': 145.16831683168317, 'pace_zone': 2}, {'distance': 1000.6, 'elapsed_time': 335, 'elevation_difference': -1.6, 'moving_time': 317, 'split': 15, 'average_speed': 3.16, 'average_grade_adjusted_speed': 3.18, 'average_heartrate': 144.34935897435898, 'pace_zone': 1}, {'distance': 594.1, 'elapsed_time': 173, 'elevation_difference': 0.4, 'moving_time': 173, 'split': 16, 'average_speed': 3.43, 'average_grade_adjusted_speed': 3.45, 'average_heartrate': 146.4450867052023, 'pace_zone': 2}], 'splits_standard': [{'distance': 1615.1, 'elapsed_time': 459, 'elevation_difference': 8.6, 'moving_time': 456, 'split': 1, 'average_speed': 3.54, 'average_grade_adjusted_speed': 3.63, 'average_heartrate': 144.4080717488789, 'pace_zone': 2}, {'distance': 1607.7, 'elapsed_time': 478, 'elevation_difference': -1.4, 'moving_time': 478, 'split': 2, 'average_speed': 3.36, 'average_grade_adjusted_speed': 3.36, 'average_heartrate': 146.72384937238493, 'pace_zone': 2}, {'distance': 1615.2, 'elapsed_time': 490, 'elevation_difference': -1.8, 'moving_time': 490, 'split': 3, 'average_speed': 3.3, 'average_grade_adjusted_speed': 3.29, 'average_heartrate': 145.87551020408162, 'pace_zone': 2}, {'distance': 1607.3, 'elapsed_time': 484, 'elevation_difference': 1.2, 'moving_time': 484, 'split': 4, 'average_speed': 3.32, 'average_grade_adjusted_speed': 3.33, 'average_heartrate': 147.42355371900825, 'pace_zone': 2}, {'distance': 1609.8, 'elapsed_time': 479, 'elevation_difference': 2.8, 'moving_time': 479, 'split': 5, 'average_speed': 3.36, 'average_grade_adjusted_speed': 3.37, 'average_heartrate': 148.482254697286, 'pace_zone': 2}, {'distance': 1601.6, 'elapsed_time': 480, 'elevation_difference': 3.2, 'moving_time': 480, 'split': 6, 'average_speed': 3.34, 'average_grade_adjusted_speed': 3.35, 'average_heartrate': 148.95416666666668, 'pace_zone': 2}, {'distance': 1623.7, 'elapsed_time': 538, 'elevation_difference': -6.0, 'moving_time': 486, 'split': 7, 'average_speed': 3.34, 'average_grade_adjusted_speed': 3.33, 'average_heartrate': 146.12164948453608, 'pace_zone': 2}, {'distance': 1598.1, 'elapsed_time': 586, 'elevation_difference': -2.0, 'moving_time': 476, 'split': 8, 'average_speed': 3.36, 'average_grade_adjusted_speed': 3.36, 'average_heartrate': 148.48739495798318, 'pace_zone': 2}, {'distance': 1625.4, 'elapsed_time': 516, 'elevation_difference': 1.2, 'moving_time': 498, 'split': 9, 'average_speed': 3.26, 'average_grade_adjusted_speed': 3.28, 'average_heartrate': 143.8393574297189, 'pace_zone': 2}, {'distance': 1092.2, 'elapsed_time': 335, 'elevation_difference': -1.6, 'moving_time': 335, 'split': 10, 'average_speed': 3.26, 'average_grade_adjusted_speed': 3.28, 'average_heartrate': 146.5878787878788, 'pace_zone': 2}], 'laps': [{'id': 34764206242, 'resource_state': 2, 'name': 'Lap 1', 'activity': {'id': 10126705515, 'visibility': 'everyone', 'resource_state': 1}, 'athlete': {'id': 81994109, 'resource_state': 1}, 'elapsed_time': 278, 'moving_time': 275, 'start_date': '2023-10-29T15:46:56Z', 'start_date_local': '2023-10-29T16:46:56Z', 'distance': 1000.0, 'start_index': 0, 'end_index': 61, 'total_elevation_gain': 8.8, 'average_speed': 3.64, 'max_speed': 9.134, 'average_cadence': 83.8, 'device_watts': False, 'average_heartrate': 142.8, 'max_heartrate': 159.0, 'lap_index': 1, 'split': 1, 'pace_zone': 2}, {'id': 34764206245, 'resource_state': 2, 'name': 'Lap 2', 'activity': {'id': 10126705515, 'visibility': 'everyone', 'resource_state': 1}, 'athlete': {'id': 81994109, 'resource_state': 1}, 'elapsed_time': 293, 'moving_time': 293, 'start_date': '2023-10-29T15:51:39Z', 'start_date_local': '2023-10-29T16:51:39Z', 'distance': 1000.0, 'start_index': 62, 'end_index': 148, 'total_elevation_gain': 8.0, 'average_speed': 3.41, 'max_speed': 3.94, 'average_cadence': 83.5, 'device_watts': False, 'average_heartrate': 147.9, 'max_heartrate': 155.0, 'lap_index': 2, 'split': 2, 'pace_zone': 2}, {'id': 34764206247, 'resource_state': 2, 'name': 'Lap 3', 'activity': {'id': 10126705515, 'visibility': 'everyone', 'resource_state': 1}, 'athlete': {'id': 81994109, 'resource_state': 1}, 'elapsed_time': 298, 'moving_time': 298, 'start_date': '2023-10-29T15:56:31Z', 'start_date_local': '2023-10-29T16:56:31Z', 'distance': 1000.0, 'start_index': 149, 'end_index': 220, 'total_elevation_gain': 2.4, 'average_speed': 3.36, 'max_speed': 3.581, 'average_cadence': 82.6, 'device_watts': False, 'average_heartrate': 145.8, 'max_heartrate': 150.0, 'lap_index': 3, 'split': 3, 'pace_zone': 2}, {'id': 34764206248, 'resource_state': 2, 'name': 'Lap 4', 'activity': {'id': 10126705515, 'visibility': 'everyone', 'resource_state': 1}, 'athlete': {'id': 81994109, 'resource_state': 1}, 'elapsed_time': 304, 'moving_time': 304, 'start_date': '2023-10-29T16:01:34Z', 'start_date_local': '2023-10-29T17:01:34Z', 'distance': 1000.0, 'start_index': 221, 'end_index': 294, 'total_elevation_gain': 0.0, 'average_speed': 3.29, 'max_speed': 3.798, 'average_cadence': 82.4, 'device_watts': False, 'average_heartrate': 145.2, 'max_heartrate': 150.0, 'lap_index': 4, 'split': 4, 'pace_zone': 2}, {'id': 34764206250, 'resource_state': 2, 'name': 'Lap 5', 'activity': {'id': 10126705515, 'visibility': 'everyone', 'resource_state': 1}, 'athlete': {'id': 81994109, 'resource_state': 1}, 'elapsed_time': 301, 'moving_time': 301, 'start_date': '2023-10-29T16:06:37Z', 'start_date_local': '2023-10-29T17:06:37Z', 'distance': 1000.0, 'start_index': 295, 'end_index': 366, 'total_elevation_gain': 0.0, 'average_speed': 3.32, 'max_speed': 3.727, 'average_cadence': 82.4, 'device_watts': False, 'average_heartrate': 146.9, 'max_heartrate': 151.0, 'lap_index': 5, 'split': 5, 'pace_zone': 2}, {'id': 34764206254, 'resource_state': 2, 'name': 'Lap 6', 'activity': {'id': 10126705515, 'visibility': 'everyone', 'resource_state': 1}, 'athlete': {'id': 81994109, 'resource_state': 1}, 'elapsed_time': 302, 'moving_time': 302, 'start_date': '2023-10-29T16:11:34Z', 'start_date_local': '2023-10-29T17:11:34Z', 'distance': 1000.0, 'start_index': 367, 'end_index': 438, 'total_elevation_gain': 0.0, 'average_speed': 3.31, 'max_speed': 3.538, 'average_cadence': 82.8, 'device_watts': False, 'average_heartrate': 146.7, 'max_heartrate': 151.0, 'lap_index': 6, 'split': 6, 'pace_zone': 2}, {'id': 34764206256, 'resource_state': 2, 'name': 'Lap 7', 'activity': {'id': 10126705515, 'visibility': 'everyone', 'resource_state': 1}, 'athlete': {'id': 81994109, 'resource_state': 1}, 'elapsed_time': 295, 'moving_time': 295, 'start_date': '2023-10-29T16:16:40Z', 'start_date_local': '2023-10-29T17:16:40Z', 'distance': 1000.0, 'start_index': 439, 'end_index': 507, 'total_elevation_gain': 0.0, 'average_speed': 3.39, 'max_speed': 3.541, 'average_cadence': 82.9, 'device_watts': False, 'average_heartrate': 148.8, 'max_heartrate': 153.0, 'lap_index': 7, 'split': 7, 'pace_zone': 2}, {'id': 34764206257, 'resource_state': 2, 'name': 'Lap 8', 'activity': {'id': 10126705515, 'visibility': 'everyone', 'resource_state': 1}, 'athlete': {'id': 81994109, 'resource_state': 1}, 'elapsed_time': 299, 'moving_time': 299, 'start_date': '2023-10-29T16:21:33Z', 'start_date_local': '2023-10-29T17:21:33Z', 'distance': 1000.0, 'start_index': 508, 'end_index': 576, 'total_elevation_gain': 3.6, 'average_speed': 3.34, 'max_speed': 3.547, 'average_cadence': 83.2, 'device_watts': False, 'average_heartrate': 148.4, 'max_heartrate': 153.0, 'lap_index': 8, 'split': 8, 'pace_zone': 2}, {'id': 34764206258, 'resource_state': 2, 'name': 'Lap 9', 'activity': {'id': 10126705515, 'visibility': 'everyone', 'resource_state': 1}, 'athlete': {'id': 81994109, 'resource_state': 1}, 'elapsed_time': 302, 'moving_time': 302, 'start_date': '2023-10-29T16:26:32Z', 'start_date_local': '2023-10-29T17:26:32Z', 'distance': 1000.0, 'start_index': 577, 'end_index': 653, 'total_elevation_gain': 4.0, 'average_speed': 3.31, 'max_speed': 3.419, 'average_cadence': 83.3, 'device_watts': False, 'average_heartrate': 148.8, 'max_heartrate': 152.0, 'lap_index': 9, 'split': 9, 'pace_zone': 2}, {'id': 34764206260, 'resource_state': 2, 'name': 'Lap 10', 'activity': {'id': 10126705515, 'visibility': 'everyone', 'resource_state': 1}, 'athlete': {'id': 81994109, 'resource_state': 1}, 'elapsed_time': 294, 'moving_time': 294, 'start_date': '2023-10-29T16:31:36Z', 'start_date_local': '2023-10-29T17:31:36Z', 'distance': 1000.0, 'start_index': 654, 'end_index': 725, 'total_elevation_gain': 0.0, 'average_speed': 3.4, 'max_speed': 3.635, 'average_cadence': 83.4, 'device_watts': False, 'average_heartrate': 149.0, 'max_heartrate': 153.0, 'lap_index': 10, 'split': 10, 'pace_zone': 2}, {'id': 34764206261, 'resource_state': 2, 'name': 'Lap 11', 'activity': {'id': 10126705515, 'visibility': 'everyone', 'resource_state': 1}, 'athlete': {'id': 81994109, 'resource_state': 1}, 'elapsed_time': 353, 'moving_time': 301, 'start_date': '2023-10-29T16:36:33Z', 'start_date_local': '2023-10-29T17:36:33Z', 'distance': 1000.0, 'start_index': 726, 'end_index': 804, 'total_elevation_gain': 0.0, 'average_speed': 3.32, 'max_speed': 3.553, 'average_cadence': 83.1, 'device_watts': False, 'average_heartrate': 144.8, 'max_heartrate': 151.0, 'lap_index': 11, 'split': 11, 'pace_zone': 2}, {'id': 34764206263, 'resource_state': 2, 'name': 'Lap 12', 'activity': {'id': 10126705515, 'visibility': 'everyone', 'resource_state': 1}, 'athlete': {'id': 81994109, 'resource_state': 1}, 'elapsed_time': 297, 'moving_time': 297, 'start_date': '2023-10-29T16:42:26Z', 'start_date_local': '2023-10-29T17:42:26Z', 'distance': 1000.0, 'start_index': 805, 'end_index': 876, 'total_elevation_gain': 0.0, 'average_speed': 3.37, 'max_speed': 3.514, 'average_cadence': 82.8, 'device_watts': False, 'average_heartrate': 150.2, 'max_heartrate': 156.0, 'lap_index': 12, 'split': 12, 'pace_zone': 2}, {'id': 34764206265, 'resource_state': 2, 'name': 'Lap 13', 'activity': {'id': 10126705515, 'visibility': 'everyone', 'resource_state': 1}, 'athlete': {'id': 81994109, 'resource_state': 1}, 'elapsed_time': 411, 'moving_time': 301, 'start_date': '2023-10-29T16:47:22Z', 'start_date_local': '2023-10-29T17:47:22Z', 'distance': 1000.0, 'start_index': 877, 'end_index': 952, 'total_elevation_gain': 4.0, 'average_speed': 3.32, 'max_speed': 3.619, 'average_cadence': 83.2, 'device_watts': False, 'average_heartrate': 145.4, 'max_heartrate': 155.0, 'lap_index': 13, 'split': 13, 'pace_zone': 2}, {'id': 34764206266, 'resource_state': 2, 'name': 'Lap 14', 'activity': {'id': 10126705515, 'visibility': 'everyone', 'resource_state': 1}, 'athlete': {'id': 81994109, 'resource_state': 1}, 'elapsed_time': 303, 'moving_time': 303, 'start_date': '2023-10-29T16:54:16Z', 'start_date_local': '2023-10-29T17:54:16Z', 'distance': 1000.0, 'start_index': 953, 'end_index': 1025, 'total_elevation_gain': 2.6, 'average_speed': 3.3, 'max_speed': 4.235, 'average_cadence': 82.8, 'device_watts': False, 'average_heartrate': 145.2, 'max_heartrate': 149.0, 'lap_index': 14, 'split': 14, 'pace_zone': 2}, {'id': 34764206270, 'resource_state': 2, 'name': 'Lap 15', 'activity': {'id': 10126705515, 'visibility': 'everyone', 'resource_state': 1}, 'athlete': {'id': 81994109, 'resource_state': 1}, 'elapsed_time': 334, 'moving_time': 316, 'start_date': '2023-10-29T16:59:19Z', 'start_date_local': '2023-10-29T17:59:19Z', 'distance': 1000.0, 'start_index': 1026, 'end_index': 1111, 'total_elevation_gain': 4.0, 'average_speed': 3.16, 'max_speed': 3.721, 'average_cadence': 83.0, 'device_watts': False, 'average_heartrate': 144.3, 'max_heartrate': 150.0, 'lap_index': 15, 'split': 15, 'pace_zone': 1}, {'id': 34764206272, 'resource_state': 2, 'name': 'Lap 16', 'activity': {'id': 10126705515, 'visibility': 'everyone', 'resource_state': 1}, 'athlete': {'id': 81994109, 'resource_state': 1}, 'elapsed_time': 173, 'moving_time': 173, 'start_date': '2023-10-29T17:04:49Z', 'start_date_local': '2023-10-29T18:04:49Z', 'distance': 596.08, 'start_index': 1112, 'end_index': 1133, 'total_elevation_gain': 3.2, 'average_speed': 3.45, 'max_speed': 5.008, 'average_cadence': 82.8, 'device_watts': False, 'average_heartrate': 146.5, 'max_heartrate': 151.0, 'lap_index': 16, 'split': 16, 'pace_zone': 2}], 'best_efforts': [{'id': 30044661315, 'resource_state': 2, 'name': '400m', 'activity': {'id': 10126705515, 'visibility': 'everyone', 'resource_state': 1}, 'athlete': {'id': 81994109, 'resource_state': 1}, 'elapsed_time': 91, 'moving_time': 95, 'start_date': '2023-10-29T15:47:09Z', 'start_date_local': '2023-10-29T16:47:09Z', 'distance': 400, 'start_index': 5, 'end_index': 35, 'pr_rank': None, 'achievements': []}, {'id': 30044661349, 'resource_state': 2, 'name': '1/2 mile', 'activity': {'id': 10126705515, 'visibility': 'everyone', 'resource_state': 1}, 'athlete': {'id': 81994109, 'resource_state': 1}, 'elapsed_time': 210, 'moving_time': 211, 'start_date': '2023-10-29T15:47:09Z', 'start_date_local': '2023-10-29T16:47:09Z', 'distance': 805, 'start_index': 5, 'end_index': 73, 'pr_rank': None, 'achievements': []}, {'id': 30044661373, 'resource_state': 2, 'name': '1k', 'activity': {'id': 10126705515, 'visibility': 'everyone', 'resource_state': 1}, 'athlete': {'id': 81994109, 'resource_state': 1}, 'elapsed_time': 266, 'moving_time': 267, 'start_date': '2023-10-29T15:47:09Z', 'start_date_local': '2023-10-29T16:47:09Z', 'distance': 1000, 'start_index': 5, 'end_index': 88, 'pr_rank': None, 'achievements': []}, {'id': 30044661394, 'resource_state': 2, 'name': '1 mile', 'activity': {'id': 10126705515, 'visibility': 'everyone', 'resource_state': 1}, 'athlete': {'id': 81994109, 'resource_state': 1}, 'elapsed_time': 444, 'moving_time': 446, 'start_date': '2023-10-29T15:47:09Z', 'start_date_local': '2023-10-29T16:47:09Z', 'distance': 1609, 'start_index': 5, 'end_index': 138, 'pr_rank': None, 'achievements': []}, {'id': 30044661415, 'resource_state': 2, 'name': '2 mile', 'activity': {'id': 10126705515, 'visibility': 'everyone', 'resource_state': 1}, 'athlete': {'id': 81994109, 'resource_state': 1}, 'elapsed_time': 923, 'moving_time': 924, 'start_date': '2023-10-29T15:47:09Z', 'start_date_local': '2023-10-29T16:47:09Z', 'distance': 3219, 'start_index': 5, 'end_index': 262, 'pr_rank': None, 'achievements': []}, {'id': 30044661432, 'resource_state': 2, 'name': '5k', 'activity': {'id': 10126705515, 'visibility': 'everyone', 'resource_state': 1}, 'athlete': {'id': 81994109, 'resource_state': 1}, 'elapsed_time': 1463, 'moving_time': 1464, 'start_date': '2023-10-29T15:47:09Z', 'start_date_local': '2023-10-29T16:47:09Z', 'distance': 5000, 'start_index': 5, 'end_index': 393, 'pr_rank': None, 'achievements': []}, {'id': 30044661455, 'resource_state': 2, 'name': '10k', 'activity': {'id': 10126705515, 'visibility': 'everyone', 'resource_state': 1}, 'athlete': {'id': 81994109, 'resource_state': 1}, 'elapsed_time': 2957, 'moving_time': 2958, 'start_date': '2023-10-29T15:47:09Z', 'start_date_local': '2023-10-29T16:47:09Z', 'distance': 10000, 'start_index': 5, 'end_index': 752, 'pr_rank': None, 'achievements': []}, {'id': 30044661484, 'resource_state': 2, 'name': '15k', 'activity': {'id': 10126705515, 'visibility': 'everyone', 'resource_state': 1}, 'athlete': {'id': 81994109, 'resource_state': 1}, 'elapsed_time': 4658, 'moving_time': 4473, 'start_date': '2023-10-29T15:47:09Z', 'start_date_local': '2023-10-29T16:47:09Z', 'distance': 15000, 'start_index': 5, 'end_index': 1138, 'pr_rank': None, 'achievements': []}], 'gear': {'id': 'g13160972', 'primary': False, 'name': 'HOKA ONE ONE Clifton 8 Hoka Blue', 'nickname': 'Hoka Blue', 'resource_state': 2, 'retired': False, 'distance': 966091, 'converted_distance': 966.1}, 'photos': {'primary': None, 'count': 0}, 'stats_visibility': [{'type': 'heart_rate', 'visibility': 'everyone'}, {'type': 'pace', 'visibility': 'everyone'}, {'type': 'power', 'visibility': 'everyone'}, {'type': 'speed', 'visibility': 'everyone'}, {'type': 'calories', 'visibility': 'everyone'}], 'hide_from_home': False, 'device_name': 'Garmin Forerunner 945', 'embed_token': '6e405072366f6fccf8cfa40c6579c22943fdf49f', 'similar_activities': {'effort_count': 1, 'average_speed': 3.3460802570532073, 'min_average_speed': 3.3460802570532073, 'mid_average_speed': 3.3460802570532073, 'max_average_speed': 3.3460802570532073, 'pr_rank': None, 'frequency_milestone': None, 'trend': {'speeds': [3.3460802570532073], 'current_activity_index': 0, 'min_speed': 3.3460802570532073, 'mid_speed': 3.3460802570532073, 'max_speed': 3.3460802570532073, 'direction': 0}, 'resource_state': 2}, 'available_zones': ['heartrate', 'pace']}\n",
      "69\n",
      "dict_keys(['resource_state', 'athlete', 'name', 'distance', 'moving_time', 'elapsed_time', 'total_elevation_gain', 'type', 'sport_type', 'workout_type', 'id', 'start_date', 'start_date_local', 'timezone', 'utc_offset', 'location_city', 'location_state', 'location_country', 'achievement_count', 'kudos_count', 'comment_count', 'athlete_count', 'photo_count', 'map', 'trainer', 'commute', 'manual', 'private', 'visibility', 'flagged', 'gear_id', 'start_latlng', 'end_latlng', 'average_speed', 'max_speed', 'average_cadence', 'average_temp', 'has_heartrate', 'average_heartrate', 'max_heartrate', 'heartrate_opt_out', 'display_hide_heartrate_option', 'elev_high', 'elev_low', 'upload_id', 'upload_id_str', 'external_id', 'from_accepted_tag', 'pr_count', 'total_photo_count', 'has_kudoed', 'suffer_score', 'description', 'calories', 'perceived_exertion', 'prefer_perceived_exertion', 'segment_efforts', 'splits_metric', 'splits_standard', 'laps', 'best_efforts', 'gear', 'photos', 'stats_visibility', 'hide_from_home', 'device_name', 'embed_token', 'similar_activities', 'available_zones'])\n",
      "13\n"
     ]
    }
   ],
   "source": [
    "activity_id = activity_ids[0]\n",
    "\n",
    "# api-endpoint\n",
    "activity_url = \"http://www.strava.com/api/v3/activities/\" + str(activity_id)\n",
    " \n",
    "# defining a params dict for the parameters to be sent to the API\n",
    "params = {'access_token':access_token}\n",
    " \n",
    "# sending get request and saving the response as response object\n",
    "r = requests.get(url = activity_url, params = params)\n",
    " \n",
    "# extracting data in json format\n",
    "activity = r.json()\n",
    "\n",
    "print(activity)\n",
    "print(len(activity))\n",
    "print(activity.keys())\n",
    "print(len(activity['segment_efforts']))"
   ]
  },
  {
   "cell_type": "code",
   "execution_count": 31,
   "metadata": {},
   "outputs": [
    {
     "name": "stdout",
     "output_type": "stream",
     "text": [
      "else\n"
     ]
    },
    {
     "name": "stderr",
     "output_type": "stream",
     "text": [
      "/tmp/ipykernel_14874/2218960912.py:38: FutureWarning: The behavior of DataFrame concatenation with empty or all-NA entries is deprecated. In a future version, this will no longer exclude empty or all-NA columns when determining the result dtypes. To retain the old behavior, exclude the relevant entries before the concat operation.\n",
      "  agg_segment_efforts = pd.concat([agg_segment_efforts,segment_efforts], axis = 0)\n",
      "/tmp/ipykernel_14874/2218960912.py:38: FutureWarning: The behavior of DataFrame concatenation with empty or all-NA entries is deprecated. In a future version, this will no longer exclude empty or all-NA columns when determining the result dtypes. To retain the old behavior, exclude the relevant entries before the concat operation.\n",
      "  agg_segment_efforts = pd.concat([agg_segment_efforts,segment_efforts], axis = 0)\n",
      "/tmp/ipykernel_14874/2218960912.py:80: FutureWarning: The behavior of DataFrame concatenation with empty or all-NA entries is deprecated. In a future version, this will no longer exclude empty or all-NA columns when determining the result dtypes. To retain the old behavior, exclude the relevant entries before the concat operation.\n",
      "  agg_best_efforts = pd.concat([agg_best_efforts,best_efforts], axis = 0)\n",
      "/tmp/ipykernel_14874/2218960912.py:38: FutureWarning: The behavior of DataFrame concatenation with empty or all-NA entries is deprecated. In a future version, this will no longer exclude empty or all-NA columns when determining the result dtypes. To retain the old behavior, exclude the relevant entries before the concat operation.\n",
      "  agg_segment_efforts = pd.concat([agg_segment_efforts,segment_efforts], axis = 0)\n",
      "/tmp/ipykernel_14874/2218960912.py:80: FutureWarning: The behavior of DataFrame concatenation with empty or all-NA entries is deprecated. In a future version, this will no longer exclude empty or all-NA columns when determining the result dtypes. To retain the old behavior, exclude the relevant entries before the concat operation.\n",
      "  agg_best_efforts = pd.concat([agg_best_efforts,best_efforts], axis = 0)\n",
      "/tmp/ipykernel_14874/2218960912.py:38: FutureWarning: The behavior of DataFrame concatenation with empty or all-NA entries is deprecated. In a future version, this will no longer exclude empty or all-NA columns when determining the result dtypes. To retain the old behavior, exclude the relevant entries before the concat operation.\n",
      "  agg_segment_efforts = pd.concat([agg_segment_efforts,segment_efforts], axis = 0)\n",
      "/tmp/ipykernel_14874/2218960912.py:80: FutureWarning: The behavior of DataFrame concatenation with empty or all-NA entries is deprecated. In a future version, this will no longer exclude empty or all-NA columns when determining the result dtypes. To retain the old behavior, exclude the relevant entries before the concat operation.\n",
      "  agg_best_efforts = pd.concat([agg_best_efforts,best_efforts], axis = 0)\n",
      "/tmp/ipykernel_14874/2218960912.py:80: FutureWarning: The behavior of DataFrame concatenation with empty or all-NA entries is deprecated. In a future version, this will no longer exclude empty or all-NA columns when determining the result dtypes. To retain the old behavior, exclude the relevant entries before the concat operation.\n",
      "  agg_best_efforts = pd.concat([agg_best_efforts,best_efforts], axis = 0)\n",
      "/tmp/ipykernel_14874/2218960912.py:80: FutureWarning: The behavior of DataFrame concatenation with empty or all-NA entries is deprecated. In a future version, this will no longer exclude empty or all-NA columns when determining the result dtypes. To retain the old behavior, exclude the relevant entries before the concat operation.\n",
      "  agg_best_efforts = pd.concat([agg_best_efforts,best_efforts], axis = 0)\n",
      "/tmp/ipykernel_14874/2218960912.py:38: FutureWarning: The behavior of DataFrame concatenation with empty or all-NA entries is deprecated. In a future version, this will no longer exclude empty or all-NA columns when determining the result dtypes. To retain the old behavior, exclude the relevant entries before the concat operation.\n",
      "  agg_segment_efforts = pd.concat([agg_segment_efforts,segment_efforts], axis = 0)\n",
      "/tmp/ipykernel_14874/2218960912.py:80: FutureWarning: The behavior of DataFrame concatenation with empty or all-NA entries is deprecated. In a future version, this will no longer exclude empty or all-NA columns when determining the result dtypes. To retain the old behavior, exclude the relevant entries before the concat operation.\n",
      "  agg_best_efforts = pd.concat([agg_best_efforts,best_efforts], axis = 0)\n",
      "/tmp/ipykernel_14874/2218960912.py:38: FutureWarning: The behavior of DataFrame concatenation with empty or all-NA entries is deprecated. In a future version, this will no longer exclude empty or all-NA columns when determining the result dtypes. To retain the old behavior, exclude the relevant entries before the concat operation.\n",
      "  agg_segment_efforts = pd.concat([agg_segment_efforts,segment_efforts], axis = 0)\n",
      "/tmp/ipykernel_14874/2218960912.py:80: FutureWarning: The behavior of DataFrame concatenation with empty or all-NA entries is deprecated. In a future version, this will no longer exclude empty or all-NA columns when determining the result dtypes. To retain the old behavior, exclude the relevant entries before the concat operation.\n",
      "  agg_best_efforts = pd.concat([agg_best_efforts,best_efforts], axis = 0)\n",
      "/tmp/ipykernel_14874/2218960912.py:38: FutureWarning: The behavior of DataFrame concatenation with empty or all-NA entries is deprecated. In a future version, this will no longer exclude empty or all-NA columns when determining the result dtypes. To retain the old behavior, exclude the relevant entries before the concat operation.\n",
      "  agg_segment_efforts = pd.concat([agg_segment_efforts,segment_efforts], axis = 0)\n",
      "/tmp/ipykernel_14874/2218960912.py:80: FutureWarning: The behavior of DataFrame concatenation with empty or all-NA entries is deprecated. In a future version, this will no longer exclude empty or all-NA columns when determining the result dtypes. To retain the old behavior, exclude the relevant entries before the concat operation.\n",
      "  agg_best_efforts = pd.concat([agg_best_efforts,best_efforts], axis = 0)\n",
      "/tmp/ipykernel_14874/2218960912.py:38: FutureWarning: The behavior of DataFrame concatenation with empty or all-NA entries is deprecated. In a future version, this will no longer exclude empty or all-NA columns when determining the result dtypes. To retain the old behavior, exclude the relevant entries before the concat operation.\n",
      "  agg_segment_efforts = pd.concat([agg_segment_efforts,segment_efforts], axis = 0)\n",
      "/tmp/ipykernel_14874/2218960912.py:80: FutureWarning: The behavior of DataFrame concatenation with empty or all-NA entries is deprecated. In a future version, this will no longer exclude empty or all-NA columns when determining the result dtypes. To retain the old behavior, exclude the relevant entries before the concat operation.\n",
      "  agg_best_efforts = pd.concat([agg_best_efforts,best_efforts], axis = 0)\n",
      "/tmp/ipykernel_14874/2218960912.py:80: FutureWarning: The behavior of DataFrame concatenation with empty or all-NA entries is deprecated. In a future version, this will no longer exclude empty or all-NA columns when determining the result dtypes. To retain the old behavior, exclude the relevant entries before the concat operation.\n",
      "  agg_best_efforts = pd.concat([agg_best_efforts,best_efforts], axis = 0)\n",
      "/tmp/ipykernel_14874/2218960912.py:80: FutureWarning: The behavior of DataFrame concatenation with empty or all-NA entries is deprecated. In a future version, this will no longer exclude empty or all-NA columns when determining the result dtypes. To retain the old behavior, exclude the relevant entries before the concat operation.\n",
      "  agg_best_efforts = pd.concat([agg_best_efforts,best_efforts], axis = 0)\n",
      "/tmp/ipykernel_14874/2218960912.py:80: FutureWarning: The behavior of DataFrame concatenation with empty or all-NA entries is deprecated. In a future version, this will no longer exclude empty or all-NA columns when determining the result dtypes. To retain the old behavior, exclude the relevant entries before the concat operation.\n",
      "  agg_best_efforts = pd.concat([agg_best_efforts,best_efforts], axis = 0)\n",
      "/tmp/ipykernel_14874/2218960912.py:80: FutureWarning: The behavior of DataFrame concatenation with empty or all-NA entries is deprecated. In a future version, this will no longer exclude empty or all-NA columns when determining the result dtypes. To retain the old behavior, exclude the relevant entries before the concat operation.\n",
      "  agg_best_efforts = pd.concat([agg_best_efforts,best_efforts], axis = 0)\n",
      "/tmp/ipykernel_14874/2218960912.py:80: FutureWarning: The behavior of DataFrame concatenation with empty or all-NA entries is deprecated. In a future version, this will no longer exclude empty or all-NA columns when determining the result dtypes. To retain the old behavior, exclude the relevant entries before the concat operation.\n",
      "  agg_best_efforts = pd.concat([agg_best_efforts,best_efforts], axis = 0)\n",
      "/tmp/ipykernel_14874/2218960912.py:38: FutureWarning: The behavior of DataFrame concatenation with empty or all-NA entries is deprecated. In a future version, this will no longer exclude empty or all-NA columns when determining the result dtypes. To retain the old behavior, exclude the relevant entries before the concat operation.\n",
      "  agg_segment_efforts = pd.concat([agg_segment_efforts,segment_efforts], axis = 0)\n",
      "/tmp/ipykernel_14874/2218960912.py:80: FutureWarning: The behavior of DataFrame concatenation with empty or all-NA entries is deprecated. In a future version, this will no longer exclude empty or all-NA columns when determining the result dtypes. To retain the old behavior, exclude the relevant entries before the concat operation.\n",
      "  agg_best_efforts = pd.concat([agg_best_efforts,best_efforts], axis = 0)\n",
      "/tmp/ipykernel_14874/2218960912.py:38: FutureWarning: The behavior of DataFrame concatenation with empty or all-NA entries is deprecated. In a future version, this will no longer exclude empty or all-NA columns when determining the result dtypes. To retain the old behavior, exclude the relevant entries before the concat operation.\n",
      "  agg_segment_efforts = pd.concat([agg_segment_efforts,segment_efforts], axis = 0)\n",
      "/tmp/ipykernel_14874/2218960912.py:94: FutureWarning: The behavior of DataFrame concatenation with empty or all-NA entries is deprecated. In a future version, this will no longer exclude empty or all-NA columns when determining the result dtypes. To retain the old behavior, exclude the relevant entries before the concat operation.\n",
      "  agg_activity = pd.concat([agg_activity,activity_df])\n",
      "/tmp/ipykernel_14874/2218960912.py:80: FutureWarning: The behavior of DataFrame concatenation with empty or all-NA entries is deprecated. In a future version, this will no longer exclude empty or all-NA columns when determining the result dtypes. To retain the old behavior, exclude the relevant entries before the concat operation.\n",
      "  agg_best_efforts = pd.concat([agg_best_efforts,best_efforts], axis = 0)\n",
      "/tmp/ipykernel_14874/2218960912.py:94: FutureWarning: The behavior of DataFrame concatenation with empty or all-NA entries is deprecated. In a future version, this will no longer exclude empty or all-NA columns when determining the result dtypes. To retain the old behavior, exclude the relevant entries before the concat operation.\n",
      "  agg_activity = pd.concat([agg_activity,activity_df])\n",
      "/tmp/ipykernel_14874/2218960912.py:80: FutureWarning: The behavior of DataFrame concatenation with empty or all-NA entries is deprecated. In a future version, this will no longer exclude empty or all-NA columns when determining the result dtypes. To retain the old behavior, exclude the relevant entries before the concat operation.\n",
      "  agg_best_efforts = pd.concat([agg_best_efforts,best_efforts], axis = 0)\n",
      "/tmp/ipykernel_14874/2218960912.py:94: FutureWarning: The behavior of DataFrame concatenation with empty or all-NA entries is deprecated. In a future version, this will no longer exclude empty or all-NA columns when determining the result dtypes. To retain the old behavior, exclude the relevant entries before the concat operation.\n",
      "  agg_activity = pd.concat([agg_activity,activity_df])\n",
      "/tmp/ipykernel_14874/2218960912.py:80: FutureWarning: The behavior of DataFrame concatenation with empty or all-NA entries is deprecated. In a future version, this will no longer exclude empty or all-NA columns when determining the result dtypes. To retain the old behavior, exclude the relevant entries before the concat operation.\n",
      "  agg_best_efforts = pd.concat([agg_best_efforts,best_efforts], axis = 0)\n",
      "/tmp/ipykernel_14874/2218960912.py:94: FutureWarning: The behavior of DataFrame concatenation with empty or all-NA entries is deprecated. In a future version, this will no longer exclude empty or all-NA columns when determining the result dtypes. To retain the old behavior, exclude the relevant entries before the concat operation.\n",
      "  agg_activity = pd.concat([agg_activity,activity_df])\n",
      "/tmp/ipykernel_14874/2218960912.py:80: FutureWarning: The behavior of DataFrame concatenation with empty or all-NA entries is deprecated. In a future version, this will no longer exclude empty or all-NA columns when determining the result dtypes. To retain the old behavior, exclude the relevant entries before the concat operation.\n",
      "  agg_best_efforts = pd.concat([agg_best_efforts,best_efforts], axis = 0)\n",
      "/tmp/ipykernel_14874/2218960912.py:94: FutureWarning: The behavior of DataFrame concatenation with empty or all-NA entries is deprecated. In a future version, this will no longer exclude empty or all-NA columns when determining the result dtypes. To retain the old behavior, exclude the relevant entries before the concat operation.\n",
      "  agg_activity = pd.concat([agg_activity,activity_df])\n",
      "/tmp/ipykernel_14874/2218960912.py:94: FutureWarning: The behavior of DataFrame concatenation with empty or all-NA entries is deprecated. In a future version, this will no longer exclude empty or all-NA columns when determining the result dtypes. To retain the old behavior, exclude the relevant entries before the concat operation.\n",
      "  agg_activity = pd.concat([agg_activity,activity_df])\n",
      "/tmp/ipykernel_14874/2218960912.py:80: FutureWarning: The behavior of DataFrame concatenation with empty or all-NA entries is deprecated. In a future version, this will no longer exclude empty or all-NA columns when determining the result dtypes. To retain the old behavior, exclude the relevant entries before the concat operation.\n",
      "  agg_best_efforts = pd.concat([agg_best_efforts,best_efforts], axis = 0)\n",
      "/tmp/ipykernel_14874/2218960912.py:38: FutureWarning: The behavior of DataFrame concatenation with empty or all-NA entries is deprecated. In a future version, this will no longer exclude empty or all-NA columns when determining the result dtypes. To retain the old behavior, exclude the relevant entries before the concat operation.\n",
      "  agg_segment_efforts = pd.concat([agg_segment_efforts,segment_efforts], axis = 0)\n",
      "/tmp/ipykernel_14874/2218960912.py:80: FutureWarning: The behavior of DataFrame concatenation with empty or all-NA entries is deprecated. In a future version, this will no longer exclude empty or all-NA columns when determining the result dtypes. To retain the old behavior, exclude the relevant entries before the concat operation.\n",
      "  agg_best_efforts = pd.concat([agg_best_efforts,best_efforts], axis = 0)\n",
      "/tmp/ipykernel_14874/2218960912.py:38: FutureWarning: The behavior of DataFrame concatenation with empty or all-NA entries is deprecated. In a future version, this will no longer exclude empty or all-NA columns when determining the result dtypes. To retain the old behavior, exclude the relevant entries before the concat operation.\n",
      "  agg_segment_efforts = pd.concat([agg_segment_efforts,segment_efforts], axis = 0)\n",
      "/tmp/ipykernel_14874/2218960912.py:80: FutureWarning: The behavior of DataFrame concatenation with empty or all-NA entries is deprecated. In a future version, this will no longer exclude empty or all-NA columns when determining the result dtypes. To retain the old behavior, exclude the relevant entries before the concat operation.\n",
      "  agg_best_efforts = pd.concat([agg_best_efforts,best_efforts], axis = 0)\n",
      "/tmp/ipykernel_14874/2218960912.py:38: FutureWarning: The behavior of DataFrame concatenation with empty or all-NA entries is deprecated. In a future version, this will no longer exclude empty or all-NA columns when determining the result dtypes. To retain the old behavior, exclude the relevant entries before the concat operation.\n",
      "  agg_segment_efforts = pd.concat([agg_segment_efforts,segment_efforts], axis = 0)\n",
      "/tmp/ipykernel_14874/2218960912.py:80: FutureWarning: The behavior of DataFrame concatenation with empty or all-NA entries is deprecated. In a future version, this will no longer exclude empty or all-NA columns when determining the result dtypes. To retain the old behavior, exclude the relevant entries before the concat operation.\n",
      "  agg_best_efforts = pd.concat([agg_best_efforts,best_efforts], axis = 0)\n",
      "/tmp/ipykernel_14874/2218960912.py:38: FutureWarning: The behavior of DataFrame concatenation with empty or all-NA entries is deprecated. In a future version, this will no longer exclude empty or all-NA columns when determining the result dtypes. To retain the old behavior, exclude the relevant entries before the concat operation.\n",
      "  agg_segment_efforts = pd.concat([agg_segment_efforts,segment_efforts], axis = 0)\n",
      "/tmp/ipykernel_14874/2218960912.py:80: FutureWarning: The behavior of DataFrame concatenation with empty or all-NA entries is deprecated. In a future version, this will no longer exclude empty or all-NA columns when determining the result dtypes. To retain the old behavior, exclude the relevant entries before the concat operation.\n",
      "  agg_best_efforts = pd.concat([agg_best_efforts,best_efforts], axis = 0)\n",
      "/tmp/ipykernel_14874/2218960912.py:38: FutureWarning: The behavior of DataFrame concatenation with empty or all-NA entries is deprecated. In a future version, this will no longer exclude empty or all-NA columns when determining the result dtypes. To retain the old behavior, exclude the relevant entries before the concat operation.\n",
      "  agg_segment_efforts = pd.concat([agg_segment_efforts,segment_efforts], axis = 0)\n",
      "/tmp/ipykernel_14874/2218960912.py:80: FutureWarning: The behavior of DataFrame concatenation with empty or all-NA entries is deprecated. In a future version, this will no longer exclude empty or all-NA columns when determining the result dtypes. To retain the old behavior, exclude the relevant entries before the concat operation.\n",
      "  agg_best_efforts = pd.concat([agg_best_efforts,best_efforts], axis = 0)\n",
      "/tmp/ipykernel_14874/2218960912.py:38: FutureWarning: The behavior of DataFrame concatenation with empty or all-NA entries is deprecated. In a future version, this will no longer exclude empty or all-NA columns when determining the result dtypes. To retain the old behavior, exclude the relevant entries before the concat operation.\n",
      "  agg_segment_efforts = pd.concat([agg_segment_efforts,segment_efforts], axis = 0)\n",
      "/tmp/ipykernel_14874/2218960912.py:80: FutureWarning: The behavior of DataFrame concatenation with empty or all-NA entries is deprecated. In a future version, this will no longer exclude empty or all-NA columns when determining the result dtypes. To retain the old behavior, exclude the relevant entries before the concat operation.\n",
      "  agg_best_efforts = pd.concat([agg_best_efforts,best_efforts], axis = 0)\n",
      "/tmp/ipykernel_14874/2218960912.py:38: FutureWarning: The behavior of DataFrame concatenation with empty or all-NA entries is deprecated. In a future version, this will no longer exclude empty or all-NA columns when determining the result dtypes. To retain the old behavior, exclude the relevant entries before the concat operation.\n",
      "  agg_segment_efforts = pd.concat([agg_segment_efforts,segment_efforts], axis = 0)\n",
      "/tmp/ipykernel_14874/2218960912.py:38: FutureWarning: The behavior of DataFrame concatenation with empty or all-NA entries is deprecated. In a future version, this will no longer exclude empty or all-NA columns when determining the result dtypes. To retain the old behavior, exclude the relevant entries before the concat operation.\n",
      "  agg_segment_efforts = pd.concat([agg_segment_efforts,segment_efforts], axis = 0)\n",
      "/tmp/ipykernel_14874/2218960912.py:80: FutureWarning: The behavior of DataFrame concatenation with empty or all-NA entries is deprecated. In a future version, this will no longer exclude empty or all-NA columns when determining the result dtypes. To retain the old behavior, exclude the relevant entries before the concat operation.\n",
      "  agg_best_efforts = pd.concat([agg_best_efforts,best_efforts], axis = 0)\n",
      "/tmp/ipykernel_14874/2218960912.py:38: FutureWarning: The behavior of DataFrame concatenation with empty or all-NA entries is deprecated. In a future version, this will no longer exclude empty or all-NA columns when determining the result dtypes. To retain the old behavior, exclude the relevant entries before the concat operation.\n",
      "  agg_segment_efforts = pd.concat([agg_segment_efforts,segment_efforts], axis = 0)\n",
      "/tmp/ipykernel_14874/2218960912.py:38: FutureWarning: The behavior of DataFrame concatenation with empty or all-NA entries is deprecated. In a future version, this will no longer exclude empty or all-NA columns when determining the result dtypes. To retain the old behavior, exclude the relevant entries before the concat operation.\n",
      "  agg_segment_efforts = pd.concat([agg_segment_efforts,segment_efforts], axis = 0)\n",
      "/tmp/ipykernel_14874/2218960912.py:80: FutureWarning: The behavior of DataFrame concatenation with empty or all-NA entries is deprecated. In a future version, this will no longer exclude empty or all-NA columns when determining the result dtypes. To retain the old behavior, exclude the relevant entries before the concat operation.\n",
      "  agg_best_efforts = pd.concat([agg_best_efforts,best_efforts], axis = 0)\n",
      "/tmp/ipykernel_14874/2218960912.py:38: FutureWarning: The behavior of DataFrame concatenation with empty or all-NA entries is deprecated. In a future version, this will no longer exclude empty or all-NA columns when determining the result dtypes. To retain the old behavior, exclude the relevant entries before the concat operation.\n",
      "  agg_segment_efforts = pd.concat([agg_segment_efforts,segment_efforts], axis = 0)\n",
      "/tmp/ipykernel_14874/2218960912.py:80: FutureWarning: The behavior of DataFrame concatenation with empty or all-NA entries is deprecated. In a future version, this will no longer exclude empty or all-NA columns when determining the result dtypes. To retain the old behavior, exclude the relevant entries before the concat operation.\n",
      "  agg_best_efforts = pd.concat([agg_best_efforts,best_efforts], axis = 0)\n",
      "/tmp/ipykernel_14874/2218960912.py:38: FutureWarning: The behavior of DataFrame concatenation with empty or all-NA entries is deprecated. In a future version, this will no longer exclude empty or all-NA columns when determining the result dtypes. To retain the old behavior, exclude the relevant entries before the concat operation.\n",
      "  agg_segment_efforts = pd.concat([agg_segment_efforts,segment_efforts], axis = 0)\n",
      "/tmp/ipykernel_14874/2218960912.py:80: FutureWarning: The behavior of DataFrame concatenation with empty or all-NA entries is deprecated. In a future version, this will no longer exclude empty or all-NA columns when determining the result dtypes. To retain the old behavior, exclude the relevant entries before the concat operation.\n",
      "  agg_best_efforts = pd.concat([agg_best_efforts,best_efforts], axis = 0)\n",
      "/tmp/ipykernel_14874/2218960912.py:38: FutureWarning: The behavior of DataFrame concatenation with empty or all-NA entries is deprecated. In a future version, this will no longer exclude empty or all-NA columns when determining the result dtypes. To retain the old behavior, exclude the relevant entries before the concat operation.\n",
      "  agg_segment_efforts = pd.concat([agg_segment_efforts,segment_efforts], axis = 0)\n",
      "/tmp/ipykernel_14874/2218960912.py:80: FutureWarning: The behavior of DataFrame concatenation with empty or all-NA entries is deprecated. In a future version, this will no longer exclude empty or all-NA columns when determining the result dtypes. To retain the old behavior, exclude the relevant entries before the concat operation.\n",
      "  agg_best_efforts = pd.concat([agg_best_efforts,best_efforts], axis = 0)\n",
      "/tmp/ipykernel_14874/2218960912.py:38: FutureWarning: The behavior of DataFrame concatenation with empty or all-NA entries is deprecated. In a future version, this will no longer exclude empty or all-NA columns when determining the result dtypes. To retain the old behavior, exclude the relevant entries before the concat operation.\n",
      "  agg_segment_efforts = pd.concat([agg_segment_efforts,segment_efforts], axis = 0)\n",
      "/tmp/ipykernel_14874/2218960912.py:38: FutureWarning: The behavior of DataFrame concatenation with empty or all-NA entries is deprecated. In a future version, this will no longer exclude empty or all-NA columns when determining the result dtypes. To retain the old behavior, exclude the relevant entries before the concat operation.\n",
      "  agg_segment_efforts = pd.concat([agg_segment_efforts,segment_efforts], axis = 0)\n",
      "/tmp/ipykernel_14874/2218960912.py:94: FutureWarning: The behavior of DataFrame concatenation with empty or all-NA entries is deprecated. In a future version, this will no longer exclude empty or all-NA columns when determining the result dtypes. To retain the old behavior, exclude the relevant entries before the concat operation.\n",
      "  agg_activity = pd.concat([agg_activity,activity_df])\n",
      "/tmp/ipykernel_14874/2218960912.py:80: FutureWarning: The behavior of DataFrame concatenation with empty or all-NA entries is deprecated. In a future version, this will no longer exclude empty or all-NA columns when determining the result dtypes. To retain the old behavior, exclude the relevant entries before the concat operation.\n",
      "  agg_best_efforts = pd.concat([agg_best_efforts,best_efforts], axis = 0)\n",
      "/tmp/ipykernel_14874/2218960912.py:38: FutureWarning: The behavior of DataFrame concatenation with empty or all-NA entries is deprecated. In a future version, this will no longer exclude empty or all-NA columns when determining the result dtypes. To retain the old behavior, exclude the relevant entries before the concat operation.\n",
      "  agg_segment_efforts = pd.concat([agg_segment_efforts,segment_efforts], axis = 0)\n",
      "/tmp/ipykernel_14874/2218960912.py:80: FutureWarning: The behavior of DataFrame concatenation with empty or all-NA entries is deprecated. In a future version, this will no longer exclude empty or all-NA columns when determining the result dtypes. To retain the old behavior, exclude the relevant entries before the concat operation.\n",
      "  agg_best_efforts = pd.concat([agg_best_efforts,best_efforts], axis = 0)\n",
      "/tmp/ipykernel_14874/2218960912.py:38: FutureWarning: The behavior of DataFrame concatenation with empty or all-NA entries is deprecated. In a future version, this will no longer exclude empty or all-NA columns when determining the result dtypes. To retain the old behavior, exclude the relevant entries before the concat operation.\n",
      "  agg_segment_efforts = pd.concat([agg_segment_efforts,segment_efforts], axis = 0)\n",
      "/tmp/ipykernel_14874/2218960912.py:94: FutureWarning: The behavior of DataFrame concatenation with empty or all-NA entries is deprecated. In a future version, this will no longer exclude empty or all-NA columns when determining the result dtypes. To retain the old behavior, exclude the relevant entries before the concat operation.\n",
      "  agg_activity = pd.concat([agg_activity,activity_df])\n",
      "/tmp/ipykernel_14874/2218960912.py:38: FutureWarning: The behavior of DataFrame concatenation with empty or all-NA entries is deprecated. In a future version, this will no longer exclude empty or all-NA columns when determining the result dtypes. To retain the old behavior, exclude the relevant entries before the concat operation.\n",
      "  agg_segment_efforts = pd.concat([agg_segment_efforts,segment_efforts], axis = 0)\n",
      "/tmp/ipykernel_14874/2218960912.py:80: FutureWarning: The behavior of DataFrame concatenation with empty or all-NA entries is deprecated. In a future version, this will no longer exclude empty or all-NA columns when determining the result dtypes. To retain the old behavior, exclude the relevant entries before the concat operation.\n",
      "  agg_best_efforts = pd.concat([agg_best_efforts,best_efforts], axis = 0)\n",
      "/tmp/ipykernel_14874/2218960912.py:94: FutureWarning: The behavior of DataFrame concatenation with empty or all-NA entries is deprecated. In a future version, this will no longer exclude empty or all-NA columns when determining the result dtypes. To retain the old behavior, exclude the relevant entries before the concat operation.\n",
      "  agg_activity = pd.concat([agg_activity,activity_df])\n",
      "/tmp/ipykernel_14874/2218960912.py:38: FutureWarning: The behavior of DataFrame concatenation with empty or all-NA entries is deprecated. In a future version, this will no longer exclude empty or all-NA columns when determining the result dtypes. To retain the old behavior, exclude the relevant entries before the concat operation.\n",
      "  agg_segment_efforts = pd.concat([agg_segment_efforts,segment_efforts], axis = 0)\n",
      "/tmp/ipykernel_14874/2218960912.py:38: FutureWarning: The behavior of DataFrame concatenation with empty or all-NA entries is deprecated. In a future version, this will no longer exclude empty or all-NA columns when determining the result dtypes. To retain the old behavior, exclude the relevant entries before the concat operation.\n",
      "  agg_segment_efforts = pd.concat([agg_segment_efforts,segment_efforts], axis = 0)\n",
      "/tmp/ipykernel_14874/2218960912.py:80: FutureWarning: The behavior of DataFrame concatenation with empty or all-NA entries is deprecated. In a future version, this will no longer exclude empty or all-NA columns when determining the result dtypes. To retain the old behavior, exclude the relevant entries before the concat operation.\n",
      "  agg_best_efforts = pd.concat([agg_best_efforts,best_efforts], axis = 0)\n",
      "/tmp/ipykernel_14874/2218960912.py:94: FutureWarning: The behavior of DataFrame concatenation with empty or all-NA entries is deprecated. In a future version, this will no longer exclude empty or all-NA columns when determining the result dtypes. To retain the old behavior, exclude the relevant entries before the concat operation.\n",
      "  agg_activity = pd.concat([agg_activity,activity_df])\n",
      "/tmp/ipykernel_14874/2218960912.py:38: FutureWarning: The behavior of DataFrame concatenation with empty or all-NA entries is deprecated. In a future version, this will no longer exclude empty or all-NA columns when determining the result dtypes. To retain the old behavior, exclude the relevant entries before the concat operation.\n",
      "  agg_segment_efforts = pd.concat([agg_segment_efforts,segment_efforts], axis = 0)\n",
      "/tmp/ipykernel_14874/2218960912.py:80: FutureWarning: The behavior of DataFrame concatenation with empty or all-NA entries is deprecated. In a future version, this will no longer exclude empty or all-NA columns when determining the result dtypes. To retain the old behavior, exclude the relevant entries before the concat operation.\n",
      "  agg_best_efforts = pd.concat([agg_best_efforts,best_efforts], axis = 0)\n",
      "/tmp/ipykernel_14874/2218960912.py:38: FutureWarning: The behavior of DataFrame concatenation with empty or all-NA entries is deprecated. In a future version, this will no longer exclude empty or all-NA columns when determining the result dtypes. To retain the old behavior, exclude the relevant entries before the concat operation.\n",
      "  agg_segment_efforts = pd.concat([agg_segment_efforts,segment_efforts], axis = 0)\n",
      "/tmp/ipykernel_14874/2218960912.py:80: FutureWarning: The behavior of DataFrame concatenation with empty or all-NA entries is deprecated. In a future version, this will no longer exclude empty or all-NA columns when determining the result dtypes. To retain the old behavior, exclude the relevant entries before the concat operation.\n",
      "  agg_best_efforts = pd.concat([agg_best_efforts,best_efforts], axis = 0)\n",
      "/tmp/ipykernel_14874/2218960912.py:38: FutureWarning: The behavior of DataFrame concatenation with empty or all-NA entries is deprecated. In a future version, this will no longer exclude empty or all-NA columns when determining the result dtypes. To retain the old behavior, exclude the relevant entries before the concat operation.\n",
      "  agg_segment_efforts = pd.concat([agg_segment_efforts,segment_efforts], axis = 0)\n",
      "/tmp/ipykernel_14874/2218960912.py:38: FutureWarning: The behavior of DataFrame concatenation with empty or all-NA entries is deprecated. In a future version, this will no longer exclude empty or all-NA columns when determining the result dtypes. To retain the old behavior, exclude the relevant entries before the concat operation.\n",
      "  agg_segment_efforts = pd.concat([agg_segment_efforts,segment_efforts], axis = 0)\n",
      "/tmp/ipykernel_14874/2218960912.py:94: FutureWarning: The behavior of DataFrame concatenation with empty or all-NA entries is deprecated. In a future version, this will no longer exclude empty or all-NA columns when determining the result dtypes. To retain the old behavior, exclude the relevant entries before the concat operation.\n",
      "  agg_activity = pd.concat([agg_activity,activity_df])\n",
      "/tmp/ipykernel_14874/2218960912.py:38: FutureWarning: The behavior of DataFrame concatenation with empty or all-NA entries is deprecated. In a future version, this will no longer exclude empty or all-NA columns when determining the result dtypes. To retain the old behavior, exclude the relevant entries before the concat operation.\n",
      "  agg_segment_efforts = pd.concat([agg_segment_efforts,segment_efforts], axis = 0)\n",
      "/tmp/ipykernel_14874/2218960912.py:80: FutureWarning: The behavior of DataFrame concatenation with empty or all-NA entries is deprecated. In a future version, this will no longer exclude empty or all-NA columns when determining the result dtypes. To retain the old behavior, exclude the relevant entries before the concat operation.\n",
      "  agg_best_efforts = pd.concat([agg_best_efforts,best_efforts], axis = 0)\n",
      "/tmp/ipykernel_14874/2218960912.py:94: FutureWarning: The behavior of DataFrame concatenation with empty or all-NA entries is deprecated. In a future version, this will no longer exclude empty or all-NA columns when determining the result dtypes. To retain the old behavior, exclude the relevant entries before the concat operation.\n",
      "  agg_activity = pd.concat([agg_activity,activity_df])\n",
      "/tmp/ipykernel_14874/2218960912.py:38: FutureWarning: The behavior of DataFrame concatenation with empty or all-NA entries is deprecated. In a future version, this will no longer exclude empty or all-NA columns when determining the result dtypes. To retain the old behavior, exclude the relevant entries before the concat operation.\n",
      "  agg_segment_efforts = pd.concat([agg_segment_efforts,segment_efforts], axis = 0)\n",
      "/tmp/ipykernel_14874/2218960912.py:38: FutureWarning: The behavior of DataFrame concatenation with empty or all-NA entries is deprecated. In a future version, this will no longer exclude empty or all-NA columns when determining the result dtypes. To retain the old behavior, exclude the relevant entries before the concat operation.\n",
      "  agg_segment_efforts = pd.concat([agg_segment_efforts,segment_efforts], axis = 0)\n",
      "/tmp/ipykernel_14874/2218960912.py:80: FutureWarning: The behavior of DataFrame concatenation with empty or all-NA entries is deprecated. In a future version, this will no longer exclude empty or all-NA columns when determining the result dtypes. To retain the old behavior, exclude the relevant entries before the concat operation.\n",
      "  agg_best_efforts = pd.concat([agg_best_efforts,best_efforts], axis = 0)\n",
      "/tmp/ipykernel_14874/2218960912.py:94: FutureWarning: The behavior of DataFrame concatenation with empty or all-NA entries is deprecated. In a future version, this will no longer exclude empty or all-NA columns when determining the result dtypes. To retain the old behavior, exclude the relevant entries before the concat operation.\n",
      "  agg_activity = pd.concat([agg_activity,activity_df])\n",
      "/tmp/ipykernel_14874/2218960912.py:38: FutureWarning: The behavior of DataFrame concatenation with empty or all-NA entries is deprecated. In a future version, this will no longer exclude empty or all-NA columns when determining the result dtypes. To retain the old behavior, exclude the relevant entries before the concat operation.\n",
      "  agg_segment_efforts = pd.concat([agg_segment_efforts,segment_efforts], axis = 0)\n",
      "/tmp/ipykernel_14874/2218960912.py:38: FutureWarning: The behavior of DataFrame concatenation with empty or all-NA entries is deprecated. In a future version, this will no longer exclude empty or all-NA columns when determining the result dtypes. To retain the old behavior, exclude the relevant entries before the concat operation.\n",
      "  agg_segment_efforts = pd.concat([agg_segment_efforts,segment_efforts], axis = 0)\n",
      "/tmp/ipykernel_14874/2218960912.py:80: FutureWarning: The behavior of DataFrame concatenation with empty or all-NA entries is deprecated. In a future version, this will no longer exclude empty or all-NA columns when determining the result dtypes. To retain the old behavior, exclude the relevant entries before the concat operation.\n",
      "  agg_best_efforts = pd.concat([agg_best_efforts,best_efforts], axis = 0)\n",
      "/tmp/ipykernel_14874/2218960912.py:80: FutureWarning: The behavior of DataFrame concatenation with empty or all-NA entries is deprecated. In a future version, this will no longer exclude empty or all-NA columns when determining the result dtypes. To retain the old behavior, exclude the relevant entries before the concat operation.\n",
      "  agg_best_efforts = pd.concat([agg_best_efforts,best_efforts], axis = 0)\n",
      "/tmp/ipykernel_14874/2218960912.py:94: FutureWarning: The behavior of DataFrame concatenation with empty or all-NA entries is deprecated. In a future version, this will no longer exclude empty or all-NA columns when determining the result dtypes. To retain the old behavior, exclude the relevant entries before the concat operation.\n",
      "  agg_activity = pd.concat([agg_activity,activity_df])\n",
      "/tmp/ipykernel_14874/2218960912.py:38: FutureWarning: The behavior of DataFrame concatenation with empty or all-NA entries is deprecated. In a future version, this will no longer exclude empty or all-NA columns when determining the result dtypes. To retain the old behavior, exclude the relevant entries before the concat operation.\n",
      "  agg_segment_efforts = pd.concat([agg_segment_efforts,segment_efforts], axis = 0)\n",
      "/tmp/ipykernel_14874/2218960912.py:38: FutureWarning: The behavior of DataFrame concatenation with empty or all-NA entries is deprecated. In a future version, this will no longer exclude empty or all-NA columns when determining the result dtypes. To retain the old behavior, exclude the relevant entries before the concat operation.\n",
      "  agg_segment_efforts = pd.concat([agg_segment_efforts,segment_efforts], axis = 0)\n",
      "/tmp/ipykernel_14874/2218960912.py:80: FutureWarning: The behavior of DataFrame concatenation with empty or all-NA entries is deprecated. In a future version, this will no longer exclude empty or all-NA columns when determining the result dtypes. To retain the old behavior, exclude the relevant entries before the concat operation.\n",
      "  agg_best_efforts = pd.concat([agg_best_efforts,best_efforts], axis = 0)\n",
      "/tmp/ipykernel_14874/2218960912.py:94: FutureWarning: The behavior of DataFrame concatenation with empty or all-NA entries is deprecated. In a future version, this will no longer exclude empty or all-NA columns when determining the result dtypes. To retain the old behavior, exclude the relevant entries before the concat operation.\n",
      "  agg_activity = pd.concat([agg_activity,activity_df])\n",
      "/tmp/ipykernel_14874/2218960912.py:38: FutureWarning: The behavior of DataFrame concatenation with empty or all-NA entries is deprecated. In a future version, this will no longer exclude empty or all-NA columns when determining the result dtypes. To retain the old behavior, exclude the relevant entries before the concat operation.\n",
      "  agg_segment_efforts = pd.concat([agg_segment_efforts,segment_efforts], axis = 0)\n",
      "/tmp/ipykernel_14874/2218960912.py:80: FutureWarning: The behavior of DataFrame concatenation with empty or all-NA entries is deprecated. In a future version, this will no longer exclude empty or all-NA columns when determining the result dtypes. To retain the old behavior, exclude the relevant entries before the concat operation.\n",
      "  agg_best_efforts = pd.concat([agg_best_efforts,best_efforts], axis = 0)\n",
      "/tmp/ipykernel_14874/2218960912.py:94: FutureWarning: The behavior of DataFrame concatenation with empty or all-NA entries is deprecated. In a future version, this will no longer exclude empty or all-NA columns when determining the result dtypes. To retain the old behavior, exclude the relevant entries before the concat operation.\n",
      "  agg_activity = pd.concat([agg_activity,activity_df])\n",
      "/tmp/ipykernel_14874/2218960912.py:38: FutureWarning: The behavior of DataFrame concatenation with empty or all-NA entries is deprecated. In a future version, this will no longer exclude empty or all-NA columns when determining the result dtypes. To retain the old behavior, exclude the relevant entries before the concat operation.\n",
      "  agg_segment_efforts = pd.concat([agg_segment_efforts,segment_efforts], axis = 0)\n",
      "/tmp/ipykernel_14874/2218960912.py:38: FutureWarning: The behavior of DataFrame concatenation with empty or all-NA entries is deprecated. In a future version, this will no longer exclude empty or all-NA columns when determining the result dtypes. To retain the old behavior, exclude the relevant entries before the concat operation.\n",
      "  agg_segment_efforts = pd.concat([agg_segment_efforts,segment_efforts], axis = 0)\n",
      "/tmp/ipykernel_14874/2218960912.py:80: FutureWarning: The behavior of DataFrame concatenation with empty or all-NA entries is deprecated. In a future version, this will no longer exclude empty or all-NA columns when determining the result dtypes. To retain the old behavior, exclude the relevant entries before the concat operation.\n",
      "  agg_best_efforts = pd.concat([agg_best_efforts,best_efforts], axis = 0)\n",
      "/tmp/ipykernel_14874/2218960912.py:38: FutureWarning: The behavior of DataFrame concatenation with empty or all-NA entries is deprecated. In a future version, this will no longer exclude empty or all-NA columns when determining the result dtypes. To retain the old behavior, exclude the relevant entries before the concat operation.\n",
      "  agg_segment_efforts = pd.concat([agg_segment_efforts,segment_efforts], axis = 0)\n",
      "/tmp/ipykernel_14874/2218960912.py:38: FutureWarning: The behavior of DataFrame concatenation with empty or all-NA entries is deprecated. In a future version, this will no longer exclude empty or all-NA columns when determining the result dtypes. To retain the old behavior, exclude the relevant entries before the concat operation.\n",
      "  agg_segment_efforts = pd.concat([agg_segment_efforts,segment_efforts], axis = 0)\n",
      "/tmp/ipykernel_14874/2218960912.py:38: FutureWarning: The behavior of DataFrame concatenation with empty or all-NA entries is deprecated. In a future version, this will no longer exclude empty or all-NA columns when determining the result dtypes. To retain the old behavior, exclude the relevant entries before the concat operation.\n",
      "  agg_segment_efforts = pd.concat([agg_segment_efforts,segment_efforts], axis = 0)\n",
      "/tmp/ipykernel_14874/2218960912.py:80: FutureWarning: The behavior of DataFrame concatenation with empty or all-NA entries is deprecated. In a future version, this will no longer exclude empty or all-NA columns when determining the result dtypes. To retain the old behavior, exclude the relevant entries before the concat operation.\n",
      "  agg_best_efforts = pd.concat([agg_best_efforts,best_efforts], axis = 0)\n",
      "/tmp/ipykernel_14874/2218960912.py:94: FutureWarning: The behavior of DataFrame concatenation with empty or all-NA entries is deprecated. In a future version, this will no longer exclude empty or all-NA columns when determining the result dtypes. To retain the old behavior, exclude the relevant entries before the concat operation.\n",
      "  agg_activity = pd.concat([agg_activity,activity_df])\n",
      "/tmp/ipykernel_14874/2218960912.py:38: FutureWarning: The behavior of DataFrame concatenation with empty or all-NA entries is deprecated. In a future version, this will no longer exclude empty or all-NA columns when determining the result dtypes. To retain the old behavior, exclude the relevant entries before the concat operation.\n",
      "  agg_segment_efforts = pd.concat([agg_segment_efforts,segment_efforts], axis = 0)\n"
     ]
    },
    {
     "name": "stdout",
     "output_type": "stream",
     "text": [
      "else\n"
     ]
    },
    {
     "name": "stderr",
     "output_type": "stream",
     "text": [
      "/tmp/ipykernel_14874/2218960912.py:94: FutureWarning: The behavior of DataFrame concatenation with empty or all-NA entries is deprecated. In a future version, this will no longer exclude empty or all-NA columns when determining the result dtypes. To retain the old behavior, exclude the relevant entries before the concat operation.\n",
      "  agg_activity = pd.concat([agg_activity,activity_df])\n"
     ]
    },
    {
     "name": "stdout",
     "output_type": "stream",
     "text": [
      "else\n"
     ]
    },
    {
     "name": "stderr",
     "output_type": "stream",
     "text": [
      "/tmp/ipykernel_14874/2218960912.py:94: FutureWarning: The behavior of DataFrame concatenation with empty or all-NA entries is deprecated. In a future version, this will no longer exclude empty or all-NA columns when determining the result dtypes. To retain the old behavior, exclude the relevant entries before the concat operation.\n",
      "  agg_activity = pd.concat([agg_activity,activity_df])\n",
      "/tmp/ipykernel_14874/2218960912.py:38: FutureWarning: The behavior of DataFrame concatenation with empty or all-NA entries is deprecated. In a future version, this will no longer exclude empty or all-NA columns when determining the result dtypes. To retain the old behavior, exclude the relevant entries before the concat operation.\n",
      "  agg_segment_efforts = pd.concat([agg_segment_efforts,segment_efforts], axis = 0)\n",
      "/tmp/ipykernel_14874/2218960912.py:38: FutureWarning: The behavior of DataFrame concatenation with empty or all-NA entries is deprecated. In a future version, this will no longer exclude empty or all-NA columns when determining the result dtypes. To retain the old behavior, exclude the relevant entries before the concat operation.\n",
      "  agg_segment_efforts = pd.concat([agg_segment_efforts,segment_efforts], axis = 0)\n",
      "/tmp/ipykernel_14874/2218960912.py:38: FutureWarning: The behavior of DataFrame concatenation with empty or all-NA entries is deprecated. In a future version, this will no longer exclude empty or all-NA columns when determining the result dtypes. To retain the old behavior, exclude the relevant entries before the concat operation.\n",
      "  agg_segment_efforts = pd.concat([agg_segment_efforts,segment_efforts], axis = 0)\n",
      "/tmp/ipykernel_14874/2218960912.py:38: FutureWarning: The behavior of DataFrame concatenation with empty or all-NA entries is deprecated. In a future version, this will no longer exclude empty or all-NA columns when determining the result dtypes. To retain the old behavior, exclude the relevant entries before the concat operation.\n",
      "  agg_segment_efforts = pd.concat([agg_segment_efforts,segment_efforts], axis = 0)\n",
      "/tmp/ipykernel_14874/2218960912.py:80: FutureWarning: The behavior of DataFrame concatenation with empty or all-NA entries is deprecated. In a future version, this will no longer exclude empty or all-NA columns when determining the result dtypes. To retain the old behavior, exclude the relevant entries before the concat operation.\n",
      "  agg_best_efforts = pd.concat([agg_best_efforts,best_efforts], axis = 0)\n",
      "/tmp/ipykernel_14874/2218960912.py:38: FutureWarning: The behavior of DataFrame concatenation with empty or all-NA entries is deprecated. In a future version, this will no longer exclude empty or all-NA columns when determining the result dtypes. To retain the old behavior, exclude the relevant entries before the concat operation.\n",
      "  agg_segment_efforts = pd.concat([agg_segment_efforts,segment_efforts], axis = 0)\n",
      "/tmp/ipykernel_14874/2218960912.py:38: FutureWarning: The behavior of DataFrame concatenation with empty or all-NA entries is deprecated. In a future version, this will no longer exclude empty or all-NA columns when determining the result dtypes. To retain the old behavior, exclude the relevant entries before the concat operation.\n",
      "  agg_segment_efforts = pd.concat([agg_segment_efforts,segment_efforts], axis = 0)\n",
      "/tmp/ipykernel_14874/2218960912.py:38: FutureWarning: The behavior of DataFrame concatenation with empty or all-NA entries is deprecated. In a future version, this will no longer exclude empty or all-NA columns when determining the result dtypes. To retain the old behavior, exclude the relevant entries before the concat operation.\n",
      "  agg_segment_efforts = pd.concat([agg_segment_efforts,segment_efforts], axis = 0)\n"
     ]
    },
    {
     "name": "stdout",
     "output_type": "stream",
     "text": [
      "else\n"
     ]
    },
    {
     "name": "stderr",
     "output_type": "stream",
     "text": [
      "/tmp/ipykernel_14874/2218960912.py:38: FutureWarning: The behavior of DataFrame concatenation with empty or all-NA entries is deprecated. In a future version, this will no longer exclude empty or all-NA columns when determining the result dtypes. To retain the old behavior, exclude the relevant entries before the concat operation.\n",
      "  agg_segment_efforts = pd.concat([agg_segment_efforts,segment_efforts], axis = 0)\n",
      "/tmp/ipykernel_14874/2218960912.py:38: FutureWarning: The behavior of DataFrame concatenation with empty or all-NA entries is deprecated. In a future version, this will no longer exclude empty or all-NA columns when determining the result dtypes. To retain the old behavior, exclude the relevant entries before the concat operation.\n",
      "  agg_segment_efforts = pd.concat([agg_segment_efforts,segment_efforts], axis = 0)\n",
      "/tmp/ipykernel_14874/2218960912.py:94: FutureWarning: The behavior of DataFrame concatenation with empty or all-NA entries is deprecated. In a future version, this will no longer exclude empty or all-NA columns when determining the result dtypes. To retain the old behavior, exclude the relevant entries before the concat operation.\n",
      "  agg_activity = pd.concat([agg_activity,activity_df])\n",
      "/tmp/ipykernel_14874/2218960912.py:38: FutureWarning: The behavior of DataFrame concatenation with empty or all-NA entries is deprecated. In a future version, this will no longer exclude empty or all-NA columns when determining the result dtypes. To retain the old behavior, exclude the relevant entries before the concat operation.\n",
      "  agg_segment_efforts = pd.concat([agg_segment_efforts,segment_efforts], axis = 0)\n",
      "/tmp/ipykernel_14874/2218960912.py:38: FutureWarning: The behavior of DataFrame concatenation with empty or all-NA entries is deprecated. In a future version, this will no longer exclude empty or all-NA columns when determining the result dtypes. To retain the old behavior, exclude the relevant entries before the concat operation.\n",
      "  agg_segment_efforts = pd.concat([agg_segment_efforts,segment_efforts], axis = 0)\n",
      "/tmp/ipykernel_14874/2218960912.py:38: FutureWarning: The behavior of DataFrame concatenation with empty or all-NA entries is deprecated. In a future version, this will no longer exclude empty or all-NA columns when determining the result dtypes. To retain the old behavior, exclude the relevant entries before the concat operation.\n",
      "  agg_segment_efforts = pd.concat([agg_segment_efforts,segment_efforts], axis = 0)\n",
      "/tmp/ipykernel_14874/2218960912.py:80: FutureWarning: The behavior of DataFrame concatenation with empty or all-NA entries is deprecated. In a future version, this will no longer exclude empty or all-NA columns when determining the result dtypes. To retain the old behavior, exclude the relevant entries before the concat operation.\n",
      "  agg_best_efforts = pd.concat([agg_best_efforts,best_efforts], axis = 0)\n"
     ]
    },
    {
     "name": "stdout",
     "output_type": "stream",
     "text": [
      "else\n",
      "else\n"
     ]
    },
    {
     "name": "stderr",
     "output_type": "stream",
     "text": [
      "/tmp/ipykernel_14874/2218960912.py:94: FutureWarning: The behavior of DataFrame concatenation with empty or all-NA entries is deprecated. In a future version, this will no longer exclude empty or all-NA columns when determining the result dtypes. To retain the old behavior, exclude the relevant entries before the concat operation.\n",
      "  agg_activity = pd.concat([agg_activity,activity_df])\n"
     ]
    },
    {
     "name": "stdout",
     "output_type": "stream",
     "text": [
      "else\n"
     ]
    },
    {
     "name": "stderr",
     "output_type": "stream",
     "text": [
      "/tmp/ipykernel_14874/2218960912.py:94: FutureWarning: The behavior of DataFrame concatenation with empty or all-NA entries is deprecated. In a future version, this will no longer exclude empty or all-NA columns when determining the result dtypes. To retain the old behavior, exclude the relevant entries before the concat operation.\n",
      "  agg_activity = pd.concat([agg_activity,activity_df])\n"
     ]
    },
    {
     "name": "stdout",
     "output_type": "stream",
     "text": [
      "else\n"
     ]
    },
    {
     "name": "stderr",
     "output_type": "stream",
     "text": [
      "/tmp/ipykernel_14874/2218960912.py:94: FutureWarning: The behavior of DataFrame concatenation with empty or all-NA entries is deprecated. In a future version, this will no longer exclude empty or all-NA columns when determining the result dtypes. To retain the old behavior, exclude the relevant entries before the concat operation.\n",
      "  agg_activity = pd.concat([agg_activity,activity_df])\n"
     ]
    },
    {
     "name": "stdout",
     "output_type": "stream",
     "text": [
      "else\n"
     ]
    },
    {
     "name": "stderr",
     "output_type": "stream",
     "text": [
      "/tmp/ipykernel_14874/2218960912.py:94: FutureWarning: The behavior of DataFrame concatenation with empty or all-NA entries is deprecated. In a future version, this will no longer exclude empty or all-NA columns when determining the result dtypes. To retain the old behavior, exclude the relevant entries before the concat operation.\n",
      "  agg_activity = pd.concat([agg_activity,activity_df])\n"
     ]
    },
    {
     "name": "stdout",
     "output_type": "stream",
     "text": [
      "else\n"
     ]
    },
    {
     "name": "stderr",
     "output_type": "stream",
     "text": [
      "/tmp/ipykernel_14874/2218960912.py:94: FutureWarning: The behavior of DataFrame concatenation with empty or all-NA entries is deprecated. In a future version, this will no longer exclude empty or all-NA columns when determining the result dtypes. To retain the old behavior, exclude the relevant entries before the concat operation.\n",
      "  agg_activity = pd.concat([agg_activity,activity_df])\n"
     ]
    },
    {
     "name": "stdout",
     "output_type": "stream",
     "text": [
      "else\n"
     ]
    },
    {
     "name": "stderr",
     "output_type": "stream",
     "text": [
      "/tmp/ipykernel_14874/2218960912.py:94: FutureWarning: The behavior of DataFrame concatenation with empty or all-NA entries is deprecated. In a future version, this will no longer exclude empty or all-NA columns when determining the result dtypes. To retain the old behavior, exclude the relevant entries before the concat operation.\n",
      "  agg_activity = pd.concat([agg_activity,activity_df])\n"
     ]
    },
    {
     "name": "stdout",
     "output_type": "stream",
     "text": [
      "else\n",
      "else\n"
     ]
    },
    {
     "name": "stderr",
     "output_type": "stream",
     "text": [
      "/tmp/ipykernel_14874/2218960912.py:94: FutureWarning: The behavior of DataFrame concatenation with empty or all-NA entries is deprecated. In a future version, this will no longer exclude empty or all-NA columns when determining the result dtypes. To retain the old behavior, exclude the relevant entries before the concat operation.\n",
      "  agg_activity = pd.concat([agg_activity,activity_df])\n"
     ]
    },
    {
     "name": "stdout",
     "output_type": "stream",
     "text": [
      "else\n"
     ]
    },
    {
     "name": "stderr",
     "output_type": "stream",
     "text": [
      "/tmp/ipykernel_14874/2218960912.py:94: FutureWarning: The behavior of DataFrame concatenation with empty or all-NA entries is deprecated. In a future version, this will no longer exclude empty or all-NA columns when determining the result dtypes. To retain the old behavior, exclude the relevant entries before the concat operation.\n",
      "  agg_activity = pd.concat([agg_activity,activity_df])\n"
     ]
    },
    {
     "name": "stdout",
     "output_type": "stream",
     "text": [
      "else\n"
     ]
    },
    {
     "name": "stderr",
     "output_type": "stream",
     "text": [
      "/tmp/ipykernel_14874/2218960912.py:94: FutureWarning: The behavior of DataFrame concatenation with empty or all-NA entries is deprecated. In a future version, this will no longer exclude empty or all-NA columns when determining the result dtypes. To retain the old behavior, exclude the relevant entries before the concat operation.\n",
      "  agg_activity = pd.concat([agg_activity,activity_df])\n"
     ]
    },
    {
     "name": "stdout",
     "output_type": "stream",
     "text": [
      "else\n"
     ]
    },
    {
     "name": "stderr",
     "output_type": "stream",
     "text": [
      "/tmp/ipykernel_14874/2218960912.py:94: FutureWarning: The behavior of DataFrame concatenation with empty or all-NA entries is deprecated. In a future version, this will no longer exclude empty or all-NA columns when determining the result dtypes. To retain the old behavior, exclude the relevant entries before the concat operation.\n",
      "  agg_activity = pd.concat([agg_activity,activity_df])\n"
     ]
    },
    {
     "name": "stdout",
     "output_type": "stream",
     "text": [
      "else\n"
     ]
    },
    {
     "name": "stderr",
     "output_type": "stream",
     "text": [
      "/tmp/ipykernel_14874/2218960912.py:94: FutureWarning: The behavior of DataFrame concatenation with empty or all-NA entries is deprecated. In a future version, this will no longer exclude empty or all-NA columns when determining the result dtypes. To retain the old behavior, exclude the relevant entries before the concat operation.\n",
      "  agg_activity = pd.concat([agg_activity,activity_df])\n"
     ]
    },
    {
     "name": "stdout",
     "output_type": "stream",
     "text": [
      "else\n"
     ]
    },
    {
     "name": "stderr",
     "output_type": "stream",
     "text": [
      "/tmp/ipykernel_14874/2218960912.py:94: FutureWarning: The behavior of DataFrame concatenation with empty or all-NA entries is deprecated. In a future version, this will no longer exclude empty or all-NA columns when determining the result dtypes. To retain the old behavior, exclude the relevant entries before the concat operation.\n",
      "  agg_activity = pd.concat([agg_activity,activity_df])\n"
     ]
    },
    {
     "name": "stdout",
     "output_type": "stream",
     "text": [
      "else\n"
     ]
    },
    {
     "name": "stderr",
     "output_type": "stream",
     "text": [
      "/tmp/ipykernel_14874/2218960912.py:94: FutureWarning: The behavior of DataFrame concatenation with empty or all-NA entries is deprecated. In a future version, this will no longer exclude empty or all-NA columns when determining the result dtypes. To retain the old behavior, exclude the relevant entries before the concat operation.\n",
      "  agg_activity = pd.concat([agg_activity,activity_df])\n"
     ]
    },
    {
     "name": "stdout",
     "output_type": "stream",
     "text": [
      "else\n"
     ]
    },
    {
     "name": "stderr",
     "output_type": "stream",
     "text": [
      "/tmp/ipykernel_14874/2218960912.py:94: FutureWarning: The behavior of DataFrame concatenation with empty or all-NA entries is deprecated. In a future version, this will no longer exclude empty or all-NA columns when determining the result dtypes. To retain the old behavior, exclude the relevant entries before the concat operation.\n",
      "  agg_activity = pd.concat([agg_activity,activity_df])\n"
     ]
    },
    {
     "name": "stdout",
     "output_type": "stream",
     "text": [
      "else\n"
     ]
    },
    {
     "name": "stderr",
     "output_type": "stream",
     "text": [
      "/tmp/ipykernel_14874/2218960912.py:94: FutureWarning: The behavior of DataFrame concatenation with empty or all-NA entries is deprecated. In a future version, this will no longer exclude empty or all-NA columns when determining the result dtypes. To retain the old behavior, exclude the relevant entries before the concat operation.\n",
      "  agg_activity = pd.concat([agg_activity,activity_df])\n"
     ]
    },
    {
     "name": "stdout",
     "output_type": "stream",
     "text": [
      "else\n"
     ]
    },
    {
     "name": "stderr",
     "output_type": "stream",
     "text": [
      "/tmp/ipykernel_14874/2218960912.py:94: FutureWarning: The behavior of DataFrame concatenation with empty or all-NA entries is deprecated. In a future version, this will no longer exclude empty or all-NA columns when determining the result dtypes. To retain the old behavior, exclude the relevant entries before the concat operation.\n",
      "  agg_activity = pd.concat([agg_activity,activity_df])\n"
     ]
    },
    {
     "name": "stdout",
     "output_type": "stream",
     "text": [
      "else\n"
     ]
    }
   ],
   "source": [
    "agg_segment_efforts = pd.DataFrame()\n",
    "agg_segments = pd.DataFrame()\n",
    "agg_activity_splits = pd.DataFrame()\n",
    "agg_laps = pd.DataFrame()\n",
    "agg_best_efforts = pd.DataFrame()\n",
    "agg_activity = pd.DataFrame()\n",
    "\n",
    "# loop through activities\n",
    "for a in activity_ids:\n",
    "    #print(a)\n",
    "\n",
    "    # api-endpoint\n",
    "    activity_url = \"http://www.strava.com/api/v3/activities/\" + str(a)\n",
    "    # defining a params dict for the parameters to be sent to the API\n",
    "    params = {'access_token':access_token}\n",
    "    # sending get request and saving the response as response object\n",
    "    r = requests.get(url = activity_url, params = params)\n",
    "    # extracting data in json format\n",
    "    activity = r.json()\n",
    "\n",
    "    ############################\n",
    "    if not activity['segment_efforts'] == []:\n",
    "        # get segment efforts and segments from activity\n",
    "        segment_efforts = pd.DataFrame(activity['segment_efforts'])\n",
    "        # add columns to allow joining tables\n",
    "        segment_efforts['activity_id'] = a\n",
    "        segment_efforts['athlete_id'] = athlete['id']\n",
    "        # drop unnecessary columns\n",
    "        segment_efforts = segment_efforts.drop(columns = ['activity','athlete','achievements'])\n",
    "        # create extra df for segments\n",
    "        segments = pd.DataFrame(segment_efforts['segment'].tolist())\n",
    "        # rejoin segment_id onto segment effort\n",
    "        segment_ids = []\n",
    "        for o in segment_efforts['segment']:\n",
    "            segment_ids.append(o['id'])\n",
    "        segment_efforts['segment_id'] = segment_ids\n",
    "        # join segment efforts\n",
    "        agg_segment_efforts = pd.concat([agg_segment_efforts,segment_efforts], axis = 0)\n",
    "        # join segments\n",
    "        agg_segments = pd.concat([agg_segments,segments], axis = 0)\n",
    "\n",
    "    ############################\n",
    "    # get metric splits\n",
    "    if 'splits_metric' in activity.keys():\n",
    "        activity_splits = pd.DataFrame(activity['splits_metric'])\n",
    "        #print(activity_splits.columns)\n",
    "        #print(len(activity_splits))\n",
    "        # add columns to allow joining tables\n",
    "        activity_splits['activity_id'] = a\n",
    "        activity_splits['athlete_id'] = athlete['id']\n",
    "        # drop na columns\n",
    "        activity_splits = activity_splits.dropna(axis=1, how='all')\n",
    "        activity_splits = activity_splits.dropna(axis=0, how='all')\n",
    "        if 'average_grade_adjusted_speed' in activity_splits.columns:\n",
    "            activity_splits = activity_splits.drop(columns = ['average_grade_adjusted_speed'])\n",
    "        # join activity splits\n",
    "        agg_activity_splits = pd.concat([agg_activity_splits,activity_splits], axis = 0)\n",
    "\n",
    "    ############################\n",
    "    if 'laps' in activity.keys():\n",
    "        # get lap data from activity\n",
    "        laps = pd.DataFrame(activity['laps'])\n",
    "        # add columns to allow joining tables\n",
    "        laps['activity_id'] = a\n",
    "        laps['athlete_id'] = athlete['id']\n",
    "        laps = laps.drop(columns = ['activity','athlete'])\n",
    "        # join laps\n",
    "        agg_laps = pd.concat([agg_laps,laps], axis = 0)\n",
    "\n",
    "    ############################\n",
    "    try:\n",
    "        if 'best_efforts' in activity.keys():\n",
    "            # get best efforts from activity\n",
    "            best_efforts = pd.DataFrame(activity['best_efforts'])\n",
    "            # add columns to allow joining tables\n",
    "            best_efforts['activity_id'] = a\n",
    "            best_efforts['athlete_id'] = athlete['id']\n",
    "            best_efforts = best_efforts.drop(columns = ['activity','athlete','achievements'])\n",
    "            # join best efforts\n",
    "            agg_best_efforts = pd.concat([agg_best_efforts,best_efforts], axis = 0)\n",
    "    except:\n",
    "        print('else')\n",
    "\n",
    "    ############################\n",
    "    # Get actual activity data\n",
    "    keys_to_drop = ['athlete','map','segment_efforts','splits_metric','splits_standard','laps','best_efforts','stats_visibility','photos','similar_activities','gear','available_zones','start_latlng','end_latlng']\n",
    "    # Remove the specified keys from the dictionary\n",
    "    for key in keys_to_drop:\n",
    "        if key in activity:\n",
    "            del activity[key]\n",
    "    # create DF and merge with other activities\n",
    "    activity_df = pd.DataFrame(activity, index = [0])\n",
    "    activity_df['athlete_id'] = athlete['id']\n",
    "    agg_activity = pd.concat([agg_activity,activity_df])\n",
    "\n",
    "\n",
    "# create csv for segment efforts\n",
    "agg_segment_efforts.to_csv('segment_efforts4.csv')\n",
    "# create csv for unique segments\n",
    "unique_segments = agg_segments.drop_duplicates(subset=['id'])\n",
    "unique_segments.to_csv('segments4.csv')\n",
    "# create csv for splits\n",
    "agg_activity_splits.to_csv('activity_splits4.csv')\n",
    "# create csv for laps\n",
    "agg_laps.to_csv('laps4.csv')\n",
    "# create csv for best efforts\n",
    "agg_best_efforts.to_csv('best_efforts4.csv')\n",
    "# create csv for activity\n",
    "agg_activity.to_csv('activity4.csv')"
   ]
  },
  {
   "cell_type": "markdown",
   "metadata": {},
   "source": [
    "### Get Activity Zones"
   ]
  },
  {
   "cell_type": "code",
   "execution_count": 32,
   "metadata": {},
   "outputs": [
    {
     "name": "stdout",
     "output_type": "stream",
     "text": [
      "6302136410\n"
     ]
    },
    {
     "ename": "KeyboardInterrupt",
     "evalue": "",
     "output_type": "error",
     "traceback": [
      "\u001b[0;31m---------------------------------------------------------------------------\u001b[0m",
      "\u001b[0;31mKeyboardInterrupt\u001b[0m                         Traceback (most recent call last)",
      "\u001b[1;32m/home/mme/projects/BI_exam/main.ipynb Cell 18\u001b[0m line \u001b[0;36m1\n\u001b[1;32m      <a href='vscode-notebook-cell://ssh-remote%2B10.0.80.22/home/mme/projects/BI_exam/main.ipynb#X23sdnNjb2RlLXJlbW90ZQ%3D%3D?line=7'>8</a>\u001b[0m params \u001b[39m=\u001b[39m {\u001b[39m'\u001b[39m\u001b[39maccess_token\u001b[39m\u001b[39m'\u001b[39m:access_token}\n\u001b[1;32m      <a href='vscode-notebook-cell://ssh-remote%2B10.0.80.22/home/mme/projects/BI_exam/main.ipynb#X23sdnNjb2RlLXJlbW90ZQ%3D%3D?line=8'>9</a>\u001b[0m \u001b[39m# sending get request and saving the response as response object\u001b[39;00m\n\u001b[0;32m---> <a href='vscode-notebook-cell://ssh-remote%2B10.0.80.22/home/mme/projects/BI_exam/main.ipynb#X23sdnNjb2RlLXJlbW90ZQ%3D%3D?line=9'>10</a>\u001b[0m r \u001b[39m=\u001b[39m requests\u001b[39m.\u001b[39;49mget(url \u001b[39m=\u001b[39;49m activity_zone_url, params \u001b[39m=\u001b[39;49m params)\n\u001b[1;32m     <a href='vscode-notebook-cell://ssh-remote%2B10.0.80.22/home/mme/projects/BI_exam/main.ipynb#X23sdnNjb2RlLXJlbW90ZQ%3D%3D?line=10'>11</a>\u001b[0m \u001b[39m# extracting data in json format\u001b[39;00m\n\u001b[1;32m     <a href='vscode-notebook-cell://ssh-remote%2B10.0.80.22/home/mme/projects/BI_exam/main.ipynb#X23sdnNjb2RlLXJlbW90ZQ%3D%3D?line=11'>12</a>\u001b[0m activity_zones \u001b[39m=\u001b[39m r\u001b[39m.\u001b[39mjson()\n",
      "File \u001b[0;32m~/miniconda3/envs/apicall/lib/python3.11/site-packages/requests/api.py:73\u001b[0m, in \u001b[0;36mget\u001b[0;34m(url, params, **kwargs)\u001b[0m\n\u001b[1;32m     62\u001b[0m \u001b[39mdef\u001b[39;00m \u001b[39mget\u001b[39m(url, params\u001b[39m=\u001b[39m\u001b[39mNone\u001b[39;00m, \u001b[39m*\u001b[39m\u001b[39m*\u001b[39mkwargs):\n\u001b[1;32m     63\u001b[0m \u001b[39m    \u001b[39m\u001b[39mr\u001b[39m\u001b[39m\"\"\"Sends a GET request.\u001b[39;00m\n\u001b[1;32m     64\u001b[0m \n\u001b[1;32m     65\u001b[0m \u001b[39m    :param url: URL for the new :class:`Request` object.\u001b[39;00m\n\u001b[0;32m   (...)\u001b[0m\n\u001b[1;32m     70\u001b[0m \u001b[39m    :rtype: requests.Response\u001b[39;00m\n\u001b[1;32m     71\u001b[0m \u001b[39m    \"\"\"\u001b[39;00m\n\u001b[0;32m---> 73\u001b[0m     \u001b[39mreturn\u001b[39;00m request(\u001b[39m\"\u001b[39;49m\u001b[39mget\u001b[39;49m\u001b[39m\"\u001b[39;49m, url, params\u001b[39m=\u001b[39;49mparams, \u001b[39m*\u001b[39;49m\u001b[39m*\u001b[39;49mkwargs)\n",
      "File \u001b[0;32m~/miniconda3/envs/apicall/lib/python3.11/site-packages/requests/api.py:59\u001b[0m, in \u001b[0;36mrequest\u001b[0;34m(method, url, **kwargs)\u001b[0m\n\u001b[1;32m     55\u001b[0m \u001b[39m# By using the 'with' statement we are sure the session is closed, thus we\u001b[39;00m\n\u001b[1;32m     56\u001b[0m \u001b[39m# avoid leaving sockets open which can trigger a ResourceWarning in some\u001b[39;00m\n\u001b[1;32m     57\u001b[0m \u001b[39m# cases, and look like a memory leak in others.\u001b[39;00m\n\u001b[1;32m     58\u001b[0m \u001b[39mwith\u001b[39;00m sessions\u001b[39m.\u001b[39mSession() \u001b[39mas\u001b[39;00m session:\n\u001b[0;32m---> 59\u001b[0m     \u001b[39mreturn\u001b[39;00m session\u001b[39m.\u001b[39;49mrequest(method\u001b[39m=\u001b[39;49mmethod, url\u001b[39m=\u001b[39;49murl, \u001b[39m*\u001b[39;49m\u001b[39m*\u001b[39;49mkwargs)\n",
      "File \u001b[0;32m~/miniconda3/envs/apicall/lib/python3.11/site-packages/requests/sessions.py:589\u001b[0m, in \u001b[0;36mSession.request\u001b[0;34m(self, method, url, params, data, headers, cookies, files, auth, timeout, allow_redirects, proxies, hooks, stream, verify, cert, json)\u001b[0m\n\u001b[1;32m    584\u001b[0m send_kwargs \u001b[39m=\u001b[39m {\n\u001b[1;32m    585\u001b[0m     \u001b[39m\"\u001b[39m\u001b[39mtimeout\u001b[39m\u001b[39m\"\u001b[39m: timeout,\n\u001b[1;32m    586\u001b[0m     \u001b[39m\"\u001b[39m\u001b[39mallow_redirects\u001b[39m\u001b[39m\"\u001b[39m: allow_redirects,\n\u001b[1;32m    587\u001b[0m }\n\u001b[1;32m    588\u001b[0m send_kwargs\u001b[39m.\u001b[39mupdate(settings)\n\u001b[0;32m--> 589\u001b[0m resp \u001b[39m=\u001b[39m \u001b[39mself\u001b[39;49m\u001b[39m.\u001b[39;49msend(prep, \u001b[39m*\u001b[39;49m\u001b[39m*\u001b[39;49msend_kwargs)\n\u001b[1;32m    591\u001b[0m \u001b[39mreturn\u001b[39;00m resp\n",
      "File \u001b[0;32m~/miniconda3/envs/apicall/lib/python3.11/site-packages/requests/sessions.py:703\u001b[0m, in \u001b[0;36mSession.send\u001b[0;34m(self, request, **kwargs)\u001b[0m\n\u001b[1;32m    700\u001b[0m start \u001b[39m=\u001b[39m preferred_clock()\n\u001b[1;32m    702\u001b[0m \u001b[39m# Send the request\u001b[39;00m\n\u001b[0;32m--> 703\u001b[0m r \u001b[39m=\u001b[39m adapter\u001b[39m.\u001b[39;49msend(request, \u001b[39m*\u001b[39;49m\u001b[39m*\u001b[39;49mkwargs)\n\u001b[1;32m    705\u001b[0m \u001b[39m# Total elapsed time of the request (approximately)\u001b[39;00m\n\u001b[1;32m    706\u001b[0m elapsed \u001b[39m=\u001b[39m preferred_clock() \u001b[39m-\u001b[39m start\n",
      "File \u001b[0;32m~/miniconda3/envs/apicall/lib/python3.11/site-packages/requests/adapters.py:486\u001b[0m, in \u001b[0;36mHTTPAdapter.send\u001b[0;34m(self, request, stream, timeout, verify, cert, proxies)\u001b[0m\n\u001b[1;32m    483\u001b[0m     timeout \u001b[39m=\u001b[39m TimeoutSauce(connect\u001b[39m=\u001b[39mtimeout, read\u001b[39m=\u001b[39mtimeout)\n\u001b[1;32m    485\u001b[0m \u001b[39mtry\u001b[39;00m:\n\u001b[0;32m--> 486\u001b[0m     resp \u001b[39m=\u001b[39m conn\u001b[39m.\u001b[39;49murlopen(\n\u001b[1;32m    487\u001b[0m         method\u001b[39m=\u001b[39;49mrequest\u001b[39m.\u001b[39;49mmethod,\n\u001b[1;32m    488\u001b[0m         url\u001b[39m=\u001b[39;49murl,\n\u001b[1;32m    489\u001b[0m         body\u001b[39m=\u001b[39;49mrequest\u001b[39m.\u001b[39;49mbody,\n\u001b[1;32m    490\u001b[0m         headers\u001b[39m=\u001b[39;49mrequest\u001b[39m.\u001b[39;49mheaders,\n\u001b[1;32m    491\u001b[0m         redirect\u001b[39m=\u001b[39;49m\u001b[39mFalse\u001b[39;49;00m,\n\u001b[1;32m    492\u001b[0m         assert_same_host\u001b[39m=\u001b[39;49m\u001b[39mFalse\u001b[39;49;00m,\n\u001b[1;32m    493\u001b[0m         preload_content\u001b[39m=\u001b[39;49m\u001b[39mFalse\u001b[39;49;00m,\n\u001b[1;32m    494\u001b[0m         decode_content\u001b[39m=\u001b[39;49m\u001b[39mFalse\u001b[39;49;00m,\n\u001b[1;32m    495\u001b[0m         retries\u001b[39m=\u001b[39;49m\u001b[39mself\u001b[39;49m\u001b[39m.\u001b[39;49mmax_retries,\n\u001b[1;32m    496\u001b[0m         timeout\u001b[39m=\u001b[39;49mtimeout,\n\u001b[1;32m    497\u001b[0m         chunked\u001b[39m=\u001b[39;49mchunked,\n\u001b[1;32m    498\u001b[0m     )\n\u001b[1;32m    500\u001b[0m \u001b[39mexcept\u001b[39;00m (ProtocolError, \u001b[39mOSError\u001b[39;00m) \u001b[39mas\u001b[39;00m err:\n\u001b[1;32m    501\u001b[0m     \u001b[39mraise\u001b[39;00m \u001b[39mConnectionError\u001b[39;00m(err, request\u001b[39m=\u001b[39mrequest)\n",
      "File \u001b[0;32m~/miniconda3/envs/apicall/lib/python3.11/site-packages/urllib3/connectionpool.py:791\u001b[0m, in \u001b[0;36mHTTPConnectionPool.urlopen\u001b[0;34m(self, method, url, body, headers, retries, redirect, assert_same_host, timeout, pool_timeout, release_conn, chunked, body_pos, preload_content, decode_content, **response_kw)\u001b[0m\n\u001b[1;32m    788\u001b[0m response_conn \u001b[39m=\u001b[39m conn \u001b[39mif\u001b[39;00m \u001b[39mnot\u001b[39;00m release_conn \u001b[39melse\u001b[39;00m \u001b[39mNone\u001b[39;00m\n\u001b[1;32m    790\u001b[0m \u001b[39m# Make the request on the HTTPConnection object\u001b[39;00m\n\u001b[0;32m--> 791\u001b[0m response \u001b[39m=\u001b[39m \u001b[39mself\u001b[39;49m\u001b[39m.\u001b[39;49m_make_request(\n\u001b[1;32m    792\u001b[0m     conn,\n\u001b[1;32m    793\u001b[0m     method,\n\u001b[1;32m    794\u001b[0m     url,\n\u001b[1;32m    795\u001b[0m     timeout\u001b[39m=\u001b[39;49mtimeout_obj,\n\u001b[1;32m    796\u001b[0m     body\u001b[39m=\u001b[39;49mbody,\n\u001b[1;32m    797\u001b[0m     headers\u001b[39m=\u001b[39;49mheaders,\n\u001b[1;32m    798\u001b[0m     chunked\u001b[39m=\u001b[39;49mchunked,\n\u001b[1;32m    799\u001b[0m     retries\u001b[39m=\u001b[39;49mretries,\n\u001b[1;32m    800\u001b[0m     response_conn\u001b[39m=\u001b[39;49mresponse_conn,\n\u001b[1;32m    801\u001b[0m     preload_content\u001b[39m=\u001b[39;49mpreload_content,\n\u001b[1;32m    802\u001b[0m     decode_content\u001b[39m=\u001b[39;49mdecode_content,\n\u001b[1;32m    803\u001b[0m     \u001b[39m*\u001b[39;49m\u001b[39m*\u001b[39;49mresponse_kw,\n\u001b[1;32m    804\u001b[0m )\n\u001b[1;32m    806\u001b[0m \u001b[39m# Everything went great!\u001b[39;00m\n\u001b[1;32m    807\u001b[0m clean_exit \u001b[39m=\u001b[39m \u001b[39mTrue\u001b[39;00m\n",
      "File \u001b[0;32m~/miniconda3/envs/apicall/lib/python3.11/site-packages/urllib3/connectionpool.py:537\u001b[0m, in \u001b[0;36mHTTPConnectionPool._make_request\u001b[0;34m(self, conn, method, url, body, headers, retries, timeout, chunked, response_conn, preload_content, decode_content, enforce_content_length)\u001b[0m\n\u001b[1;32m    535\u001b[0m \u001b[39m# Receive the response from the server\u001b[39;00m\n\u001b[1;32m    536\u001b[0m \u001b[39mtry\u001b[39;00m:\n\u001b[0;32m--> 537\u001b[0m     response \u001b[39m=\u001b[39m conn\u001b[39m.\u001b[39;49mgetresponse()\n\u001b[1;32m    538\u001b[0m \u001b[39mexcept\u001b[39;00m (BaseSSLError, \u001b[39mOSError\u001b[39;00m) \u001b[39mas\u001b[39;00m e:\n\u001b[1;32m    539\u001b[0m     \u001b[39mself\u001b[39m\u001b[39m.\u001b[39m_raise_timeout(err\u001b[39m=\u001b[39me, url\u001b[39m=\u001b[39murl, timeout_value\u001b[39m=\u001b[39mread_timeout)\n",
      "File \u001b[0;32m~/miniconda3/envs/apicall/lib/python3.11/site-packages/urllib3/connection.py:461\u001b[0m, in \u001b[0;36mHTTPConnection.getresponse\u001b[0;34m(self)\u001b[0m\n\u001b[1;32m    458\u001b[0m \u001b[39mfrom\u001b[39;00m \u001b[39m.\u001b[39;00m\u001b[39mresponse\u001b[39;00m \u001b[39mimport\u001b[39;00m HTTPResponse\n\u001b[1;32m    460\u001b[0m \u001b[39m# Get the response from http.client.HTTPConnection\u001b[39;00m\n\u001b[0;32m--> 461\u001b[0m httplib_response \u001b[39m=\u001b[39m \u001b[39msuper\u001b[39;49m()\u001b[39m.\u001b[39;49mgetresponse()\n\u001b[1;32m    463\u001b[0m \u001b[39mtry\u001b[39;00m:\n\u001b[1;32m    464\u001b[0m     assert_header_parsing(httplib_response\u001b[39m.\u001b[39mmsg)\n",
      "File \u001b[0;32m~/miniconda3/envs/apicall/lib/python3.11/http/client.py:1378\u001b[0m, in \u001b[0;36mHTTPConnection.getresponse\u001b[0;34m(self)\u001b[0m\n\u001b[1;32m   1376\u001b[0m \u001b[39mtry\u001b[39;00m:\n\u001b[1;32m   1377\u001b[0m     \u001b[39mtry\u001b[39;00m:\n\u001b[0;32m-> 1378\u001b[0m         response\u001b[39m.\u001b[39;49mbegin()\n\u001b[1;32m   1379\u001b[0m     \u001b[39mexcept\u001b[39;00m \u001b[39mConnectionError\u001b[39;00m:\n\u001b[1;32m   1380\u001b[0m         \u001b[39mself\u001b[39m\u001b[39m.\u001b[39mclose()\n",
      "File \u001b[0;32m~/miniconda3/envs/apicall/lib/python3.11/http/client.py:318\u001b[0m, in \u001b[0;36mHTTPResponse.begin\u001b[0;34m(self)\u001b[0m\n\u001b[1;32m    316\u001b[0m \u001b[39m# read until we get a non-100 response\u001b[39;00m\n\u001b[1;32m    317\u001b[0m \u001b[39mwhile\u001b[39;00m \u001b[39mTrue\u001b[39;00m:\n\u001b[0;32m--> 318\u001b[0m     version, status, reason \u001b[39m=\u001b[39m \u001b[39mself\u001b[39;49m\u001b[39m.\u001b[39;49m_read_status()\n\u001b[1;32m    319\u001b[0m     \u001b[39mif\u001b[39;00m status \u001b[39m!=\u001b[39m CONTINUE:\n\u001b[1;32m    320\u001b[0m         \u001b[39mbreak\u001b[39;00m\n",
      "File \u001b[0;32m~/miniconda3/envs/apicall/lib/python3.11/http/client.py:279\u001b[0m, in \u001b[0;36mHTTPResponse._read_status\u001b[0;34m(self)\u001b[0m\n\u001b[1;32m    278\u001b[0m \u001b[39mdef\u001b[39;00m \u001b[39m_read_status\u001b[39m(\u001b[39mself\u001b[39m):\n\u001b[0;32m--> 279\u001b[0m     line \u001b[39m=\u001b[39m \u001b[39mstr\u001b[39m(\u001b[39mself\u001b[39m\u001b[39m.\u001b[39mfp\u001b[39m.\u001b[39mreadline(_MAXLINE \u001b[39m+\u001b[39m \u001b[39m1\u001b[39m), \u001b[39m\"\u001b[39m\u001b[39miso-8859-1\u001b[39m\u001b[39m\"\u001b[39m)\n\u001b[1;32m    280\u001b[0m     \u001b[39mif\u001b[39;00m \u001b[39mlen\u001b[39m(line) \u001b[39m>\u001b[39m _MAXLINE:\n\u001b[1;32m    281\u001b[0m         \u001b[39mraise\u001b[39;00m LineTooLong(\u001b[39m\"\u001b[39m\u001b[39mstatus line\u001b[39m\u001b[39m\"\u001b[39m)\n",
      "File \u001b[0;32m~/miniconda3/envs/apicall/lib/python3.11/socket.py:706\u001b[0m, in \u001b[0;36mSocketIO.readinto\u001b[0;34m(self, b)\u001b[0m\n\u001b[1;32m    704\u001b[0m \u001b[39mwhile\u001b[39;00m \u001b[39mTrue\u001b[39;00m:\n\u001b[1;32m    705\u001b[0m     \u001b[39mtry\u001b[39;00m:\n\u001b[0;32m--> 706\u001b[0m         \u001b[39mreturn\u001b[39;00m \u001b[39mself\u001b[39;49m\u001b[39m.\u001b[39;49m_sock\u001b[39m.\u001b[39;49mrecv_into(b)\n\u001b[1;32m    707\u001b[0m     \u001b[39mexcept\u001b[39;00m timeout:\n\u001b[1;32m    708\u001b[0m         \u001b[39mself\u001b[39m\u001b[39m.\u001b[39m_timeout_occurred \u001b[39m=\u001b[39m \u001b[39mTrue\u001b[39;00m\n",
      "\u001b[0;31mKeyboardInterrupt\u001b[0m: "
     ]
    }
   ],
   "source": [
    "agg_athlete_zones = pd.DataFrame()\n",
    "\n",
    "for a in activity_ids:\n",
    "    print(a)\n",
    "    # api-endpoint\n",
    "    activity_zone_url = \"http://www.strava.com/api/v3/activities/\" + str(a) + \"/zones\"\n",
    "    # defining a params dict for the parameters to be sent to the API\n",
    "    params = {'access_token':access_token}\n",
    "    # sending get request and saving the response as response object\n",
    "    r = requests.get(url = activity_zone_url, params = params)\n",
    "    # extracting data in json format\n",
    "    activity_zones = r.json()\n",
    "\n",
    "    zones = []\n",
    "    for t in activity_zones:\n",
    "        if 'score' in t.keys():\n",
    "            for r in t['distribution_buckets']:\n",
    "                zones_row = []\n",
    "                zones_row.append(r['min'])\n",
    "                zones_row.append(r['max'])\n",
    "                zones_row.append(r['time'])\n",
    "                zones_row.append(t['type'])\n",
    "                zones_row.append(t['resource_state'])\n",
    "                zones_row.append(t['sensor_based'])\n",
    "                zones_row.append(t['score'])\n",
    "                zones_row.append(athlete['id'])\n",
    "                zones_row.append(a)\n",
    "                zones.append(zones_row)\n",
    "\n",
    "    athlete_zones = pd.DataFrame(zones)\n",
    "    agg_athlete_zones = pd.concat([agg_athlete_zones,athlete_zones], axis = 0)\n",
    "\n",
    "agg_athlete_zones.columns = ['min','max','time','type','resource_state','sensor_based','score','athlete_id','activity_id']\n",
    "agg_athlete_zones.to_csv('activity_zones4.csv')"
   ]
  },
  {
   "cell_type": "code",
   "execution_count": null,
   "metadata": {},
   "outputs": [],
   "source": []
  }
 ],
 "metadata": {
  "kernelspec": {
   "display_name": "StravaAnalysis",
   "language": "python",
   "name": "python3"
  },
  "language_info": {
   "codemirror_mode": {
    "name": "ipython",
    "version": 3
   },
   "file_extension": ".py",
   "mimetype": "text/x-python",
   "name": "python",
   "nbconvert_exporter": "python",
   "pygments_lexer": "ipython3",
   "version": "3.9.6"
  }
 },
 "nbformat": 4,
 "nbformat_minor": 2
}
