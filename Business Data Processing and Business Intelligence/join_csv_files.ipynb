{
 "cells": [
  {
   "cell_type": "code",
   "execution_count": 6,
   "metadata": {},
   "outputs": [],
   "source": [
    "import pandas as pd"
   ]
  },
  {
   "cell_type": "code",
   "execution_count": 13,
   "metadata": {},
   "outputs": [],
   "source": [
    "final_files = ['activity_splits','activity','best_efforts','laps','segment_efforts','segments']\n",
    "final_files_folder = 'final_data/'"
   ]
  },
  {
   "cell_type": "code",
   "execution_count": 12,
   "metadata": {},
   "outputs": [
    {
     "name": "stdout",
     "output_type": "stream",
     "text": [
      "final_data/activity_splits.csv\n",
      "final_data/activity.csv\n",
      "final_data/best_efforts.csv\n",
      "final_data/laps.csv\n",
      "final_data/segment_efforts.csv\n",
      "final_data/segments.csv\n"
     ]
    }
   ],
   "source": [
    "for t in final_files:\n",
    "    final_file_name = final_files_folder+t+'.csv'\n",
    "    print(final_file_name)\n",
    "    file1 = pd.read_csv('data/'+t+'1.csv')\n",
    "    file2 = pd.read_csv('data/'+t+'2.csv')\n",
    "    file3 = pd.read_csv('data/'+t+'3.csv')\n",
    "    file4 = pd.read_csv('data/'+t+'4.csv')\n",
    "\n",
    "    combined_df = pd.concat([file1,file2,file3,file4], ignore_index=True)\n",
    "    combined_df = combined_df.drop(['Unnamed: 0'], axis = 1)\n",
    "\n",
    "    combined_df.to_csv(final_file_name)"
   ]
  },
  {
   "cell_type": "code",
   "execution_count": null,
   "metadata": {},
   "outputs": [],
   "source": []
  }
 ],
 "metadata": {
  "kernelspec": {
   "display_name": "apicall",
   "language": "python",
   "name": "python3"
  },
  "language_info": {
   "codemirror_mode": {
    "name": "ipython",
    "version": 3
   },
   "file_extension": ".py",
   "mimetype": "text/x-python",
   "name": "python",
   "nbconvert_exporter": "python",
   "pygments_lexer": "ipython3",
   "version": "3.11.5"
  }
 },
 "nbformat": 4,
 "nbformat_minor": 2
}
